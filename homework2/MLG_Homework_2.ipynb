{
  "nbformat": 4,
  "nbformat_minor": 0,
  "metadata": {
    "colab": {
      "name": "MLG Homework 2.ipynb",
      "provenance": [],
      "collapsed_sections": [
        "P6vWie0tTC_t"
      ],
      "toc_visible": true
    },
    "kernelspec": {
      "name": "python3",
      "display_name": "Python 3"
    },
    "accelerator": "GPU"
  },
  "cells": [
    {
      "cell_type": "markdown",
      "metadata": {
        "id": "rZ2fkvxwwVwG",
        "colab_type": "text"
      },
      "source": [
        "## Package Initialization"
      ]
    },
    {
      "cell_type": "code",
      "metadata": {
        "id": "FD-5slsOTfYA",
        "colab_type": "code",
        "colab": {}
      },
      "source": [
        "import numpy as np\n",
        "\n",
        "import torch\n",
        "import torch.nn as nn\n",
        "import torch.nn.functional as F\n",
        "import torch.optim as optim\n",
        "from torch.utils.data import Dataset, DataLoader\n",
        "\n",
        "import matplotlib\n",
        "import matplotlib.pyplot as plt\n",
        "\n",
        "import pandas as pd"
      ],
      "execution_count": 0,
      "outputs": []
    },
    {
      "cell_type": "markdown",
      "metadata": {
        "id": "P6vWie0tTC_t",
        "colab_type": "text"
      },
      "source": [
        "## Parse & Reformat Dataset"
      ]
    },
    {
      "cell_type": "markdown",
      "metadata": {
        "id": "-F7A0caV1RO8",
        "colab_type": "text"
      },
      "source": [
        "read training data, save to pandas DataFrame"
      ]
    },
    {
      "cell_type": "code",
      "metadata": {
        "id": "ZrqqlqUn2cfl",
        "colab_type": "code",
        "colab": {}
      },
      "source": [
        "training_data = pd.read_csv('train.csv', sep=',')"
      ],
      "execution_count": 0,
      "outputs": []
    },
    {
      "cell_type": "code",
      "metadata": {
        "id": "85gFfvxm3lCw",
        "colab_type": "code",
        "colab": {}
      },
      "source": [
        "training_data"
      ],
      "execution_count": 0,
      "outputs": []
    },
    {
      "cell_type": "markdown",
      "metadata": {
        "id": "4NP7pLWwQodq",
        "colab_type": "text"
      },
      "source": [
        "read testing data, save to pandas DataFrame"
      ]
    },
    {
      "cell_type": "code",
      "metadata": {
        "id": "NsIJChFGQsf_",
        "colab_type": "code",
        "colab": {}
      },
      "source": [
        "test_data = pd.read_csv('test.csv', sep=',')"
      ],
      "execution_count": 0,
      "outputs": []
    },
    {
      "cell_type": "code",
      "metadata": {
        "id": "d01gwpxNQ1IF",
        "colab_type": "code",
        "colab": {}
      },
      "source": [
        "test_data"
      ],
      "execution_count": 0,
      "outputs": []
    },
    {
      "cell_type": "markdown",
      "metadata": {
        "id": "rVithvvc1Y9Z",
        "colab_type": "text"
      },
      "source": [
        "read node attribute"
      ]
    },
    {
      "cell_type": "code",
      "metadata": {
        "id": "lZ8OjoHt2old",
        "colab_type": "code",
        "colab": {}
      },
      "source": [
        "node_features = pd.read_csv('content.csv', header=None, sep='\\t')"
      ],
      "execution_count": 0,
      "outputs": []
    },
    {
      "cell_type": "code",
      "metadata": {
        "id": "8tvTTYBi2vbG",
        "colab_type": "code",
        "colab": {}
      },
      "source": [
        "node_features"
      ],
      "execution_count": 0,
      "outputs": []
    },
    {
      "cell_type": "markdown",
      "metadata": {
        "id": "NZJPeIRyINtU",
        "colab_type": "text"
      },
      "source": [
        "replace node id with attributes in train data and test data"
      ]
    },
    {
      "cell_type": "code",
      "metadata": {
        "id": "U39srvff5JOw",
        "colab_type": "code",
        "colab": {}
      },
      "source": [
        "# training data (labels)\n",
        "labels = list(training_data[\"label\"])\n",
        "labels = [str(i) for i in labels]\n",
        "\n",
        "with open(\"./processed_train_labels.csv\", \"w\") as file:\n",
        "    file.write('\\n'.join(labels))"
      ],
      "execution_count": 0,
      "outputs": []
    },
    {
      "cell_type": "code",
      "metadata": {
        "id": "lBVQJZX6ILuN",
        "colab_type": "code",
        "colab": {}
      },
      "source": [
        "# training data (attributes)\n",
        "\n",
        "edges = []\n",
        "all_features = []\n",
        "\n",
        "for i in range(training_data.shape[0]):\n",
        "# for i in range(2):\n",
        "\n",
        "    training_row = list(training_data.iloc[i])\n",
        "    edge_id = training_row[0]\n",
        "    from_node, to_node = training_row[1:-1]\n",
        "\n",
        "    edges.append(edge_id)\n",
        "\n",
        "    from_features = node_features.loc[node_features[0] == from_node]\n",
        "    from_features = list(from_features.iloc[0])[1:]\n",
        "    from_features = [str(j) for j in from_features]\n",
        "    from_features_string = \"\".join(from_features)\n",
        "    \n",
        "    to_features = node_features.loc[node_features[0] == to_node]\n",
        "    to_features = list(to_features.iloc[0])[1:]\n",
        "    to_features = [str(j) for j in to_features]\n",
        "    to_features_string = \"\".join(to_features)\n",
        "\n",
        "    all_features.append(from_features_string + \",\" + to_features_string)\n",
        "\n",
        "with open(\"./train_attributes.csv\", \"w\") as file:\n",
        "    file.write('\\n'.join(all_features))\n",
        "\n",
        "with open(\"./train_edge_list.csv\", \"w\") as file:\n",
        "    file.write('\\n'.join(edges))"
      ],
      "execution_count": 0,
      "outputs": []
    },
    {
      "cell_type": "code",
      "metadata": {
        "id": "-jpMggWuWo4W",
        "colab_type": "code",
        "colab": {}
      },
      "source": [
        "# test data (attributes)\n",
        "\n",
        "edges = []\n",
        "all_features = []\n",
        "\n",
        "for i in range(test_data.shape[0]):\n",
        "\n",
        "    test_row = list(test_data.iloc[i])\n",
        "    edge_id = test_row[0]\n",
        "    from_node, to_node = test_row[1:]\n",
        "\n",
        "    edges.append(edge_id)\n",
        "\n",
        "    from_features = node_features.loc[node_features[0] == from_node]\n",
        "    from_features = list(from_features.iloc[0])[1:]\n",
        "    from_features = [str(j) for j in from_features]\n",
        "    from_features_string = \"\".join(from_features)\n",
        "    \n",
        "    to_features = node_features.loc[node_features[0] == to_node]\n",
        "    to_features = list(to_features.iloc[0])[1:]\n",
        "    to_features = [str(j) for j in to_features]\n",
        "    to_features_string = \"\".join(to_features)\n",
        "\n",
        "    all_features.append(from_features_string + \",\" + to_features_string)\n",
        "\n",
        "with open(\"./test_attributes.csv\", \"w\") as file:\n",
        "    file.write('\\n'.join(all_features))\n",
        "\n",
        "# with open(\"./test_edge_list.csv\", \"w\") as file:\n",
        "#     file.write('\\n'.join(edges))"
      ],
      "execution_count": 0,
      "outputs": []
    },
    {
      "cell_type": "markdown",
      "metadata": {
        "id": "rC9iAW6YdlEc",
        "colab_type": "text"
      },
      "source": [
        "## Calcualte Features for Reformatted data"
      ]
    },
    {
      "cell_type": "markdown",
      "metadata": {
        "id": "gspanbB2xwvj",
        "colab_type": "text"
      },
      "source": [
        "## Dataset Loader"
      ]
    },
    {
      "cell_type": "code",
      "metadata": {
        "id": "WtRiSZMLx0Qd",
        "colab_type": "code",
        "colab": {}
      },
      "source": [
        "class NodePairDataset(Dataset):\n",
        "\n",
        "    def __init__(self, example_file, label_file):\n",
        "        \"\"\"\n",
        "        Args:\n",
        "            csv_file (string): Path to the csv file with annotations\n",
        "        \"\"\"\n",
        "        self.pairs = pd.read_csv(example_file, header=None, sep=',')\n",
        "        self.labels = pd.read_csv(label_file, header=None, sep=',')\n",
        "\n",
        "    def __len__(self):\n",
        "        return len(self.pairs)\n",
        "\n",
        "    def __getitem__(self, idx):\n",
        "        x = self.pairs.iloc[idx].to_numpy().flatten()\n",
        "        y = self.labels.iloc[idx].to_numpy().flatten()\n",
        "\n",
        "        return x, y"
      ],
      "execution_count": 0,
      "outputs": []
    },
    {
      "cell_type": "code",
      "metadata": {
        "id": "I4BAlFwv1KgP",
        "colab_type": "code",
        "colab": {
          "base_uri": "https://localhost:8080/",
          "height": 323
        },
        "outputId": "54ddad2f-35ca-47a4-9e6f-64139c3be241"
      },
      "source": [
        "node_pair_dataset = NodePairDataset(\"processed_train_examples_product.csv\", \"processed_train_labels.csv\")\n",
        "loader = DataLoader(dataset=node_pair_dataset, batch_size=10, shuffle=False)\n",
        "for batch in zip(loader, range(1)):\n",
        "    data, index = batch\n",
        "    x, y = data\n",
        "    print(x)\n",
        "    print(y)"
      ],
      "execution_count": 237,
      "outputs": [
        {
          "output_type": "stream",
          "text": [
            "tensor([[0.0606, 0.0000, 0.0000,  ..., 0.0000, 0.0000, 0.0000],\n",
            "        [0.1304, 0.0000, 0.0000,  ..., 0.0000, 0.0000, 0.0000],\n",
            "        [0.1000, 0.0000, 0.0000,  ..., 0.0000, 0.0000, 0.0000],\n",
            "        ...,\n",
            "        [0.0930, 0.0000, 0.0000,  ..., 0.0000, 0.0000, 0.0000],\n",
            "        [0.0000, 0.0000, 0.0000,  ..., 0.0000, 0.0000, 0.0000],\n",
            "        [0.0513, 0.0000, 0.0000,  ..., 0.0000, 0.0000, 0.0000]],\n",
            "       dtype=torch.float64)\n",
            "tensor([[0],\n",
            "        [1],\n",
            "        [0],\n",
            "        [0],\n",
            "        [1],\n",
            "        [0],\n",
            "        [1],\n",
            "        [0],\n",
            "        [1],\n",
            "        [0]])\n"
          ],
          "name": "stdout"
        }
      ]
    },
    {
      "cell_type": "markdown",
      "metadata": {
        "id": "JpccKSVnHlQC",
        "colab_type": "text"
      },
      "source": [
        "## Define Network Model"
      ]
    },
    {
      "cell_type": "code",
      "metadata": {
        "id": "P10E6xdhHoSa",
        "colab_type": "code",
        "colab": {}
      },
      "source": [
        "class LinkPredictNetworkOne(nn.Module):\n",
        "    def __init__(self, input_dimension, hiddens=[0.125, 0.125, 0.0625, 0.03125], dropouts = [0.2, 0.1, 0.05, 0.025]):\n",
        "        super(LinkPredictNetworkOne, self).__init__()\n",
        "\n",
        "        self.hidden_factors = hiddens\n",
        "        self.dropout_factors = dropouts\n",
        "        self.input_dimension = input_dimension\n",
        "\n",
        "        self.hidden_units = [int(factor * self.input_dimension) for factor in self.hidden_factors]\n",
        "\n",
        "        self.linear1 = nn.Linear( self.input_dimension, self.hidden_units[0], bias=True)\n",
        "        self.dropout1 = nn.Dropout(self.dropout_factors[0])\n",
        "\n",
        "        self.linear2 = nn.Linear( self.hidden_units[0], self.hidden_units[1], bias=True)\n",
        "        self.dropout2 = nn.Dropout(self.dropout_factors[1])\n",
        "\n",
        "        self.linear3 = nn.Linear( self.hidden_units[1], self.hidden_units[2], bias=True)\n",
        "        self.dropout3 = nn.Dropout(self.dropout_factors[2])\n",
        "\n",
        "        self.linear4 = nn.Linear( self.hidden_units[2], self.hidden_units[3], bias=True)\n",
        "        self.dropout4 = nn.Dropout(self.dropout_factors[3])\n",
        "\n",
        "        self.outputLinear = nn.Linear( self.hidden_units[3], 1, bias=True)\n",
        "    \n",
        "    def forward(self, x):\n",
        "\n",
        "        # Encoding\n",
        "        # ============================================================================================\n",
        "\n",
        "        # x's shape: [batch_size, input_dimension]\n",
        "\n",
        "        x = x.to(torch.float)\n",
        "        x[0] += 0.5\n",
        "        x = x - 0.5\n",
        "\n",
        "        x = torch.sigmoid(self.linear1(x))\n",
        "        # x = self.dropout1(x)\n",
        "        x = torch.sigmoid(self.linear2(x))\n",
        "        # x = self.dropout2(x)\n",
        "        x = torch.sigmoid(self.linear3(x))\n",
        "        # x = self.dropout3(x)\n",
        "        x = torch.sigmoid(self.linear4(x))\n",
        "        # x = self.dropout4(x)\n",
        "        # x = torch.sigmoid(self.linear5(x))\n",
        "        # x = self.dropout5(x)\n",
        "        # x = torch.sigmoid(self.linear6(x))\n",
        "        # x = self.dropout6(x)\n",
        "        # x = torch.sigmoid(self.linear7(x))\n",
        "        # x = self.dropout7(x)\n",
        "\n",
        "        z = torch.sigmoid(self.outputLinear(x))\n",
        "\n",
        "        return z"
      ],
      "execution_count": 0,
      "outputs": []
    },
    {
      "cell_type": "code",
      "metadata": {
        "id": "aaauh_y9FE5T",
        "colab_type": "code",
        "colab": {}
      },
      "source": [
        "class LinkPredictNetworkTwo(nn.Module):\n",
        "    def __init__(self):\n",
        "        super(LinkPredictNetworkTwo, self).__init__()\n",
        "\n",
        "        self.linear1 = nn.Linear( 3, 9, bias=True)\n",
        "\n",
        "        self.linear2 = nn.Linear( 9, 3, bias=True)\n",
        "\n",
        "        self.outputLinear = nn.Linear( 3, 1, bias=True)\n",
        "    \n",
        "    def forward(self, x):\n",
        "\n",
        "        # Encoding\n",
        "        # ============================================================================================\n",
        "\n",
        "        # x's shape: [batch_size, input_dimension]\n",
        "\n",
        "        h = torch.zeros(x.size()[0], 3, dtype=torch.float).cuda()\n",
        "\n",
        "        for i in range(x.size()[0]):\n",
        "\n",
        "            one_number = int((x[i][1:] == 1).sum())\n",
        "            zero_number = int((x[i][1:] == 0).sum())\n",
        "\n",
        "            h[i,0] = x[i][0].item()\n",
        "            h[i,1] = one_number\n",
        "            h[i,2] = zero_number\n",
        "\n",
        "        h = torch.sigmoid(self.linear1(h))\n",
        "        h = torch.sigmoid(self.linear2(h))\n",
        "\n",
        "        z = torch.sigmoid(self.outputLinear(h))\n",
        "\n",
        "        return z"
      ],
      "execution_count": 0,
      "outputs": []
    },
    {
      "cell_type": "markdown",
      "metadata": {
        "id": "2WbRB11WgG8i",
        "colab_type": "text"
      },
      "source": [
        "## Define Loss "
      ]
    },
    {
      "cell_type": "code",
      "metadata": {
        "colab_type": "code",
        "id": "cbyBiifbzohG",
        "colab": {}
      },
      "source": [
        "def BinaryCrossEntropyLoss(outputs, targets):\n",
        "    return F.binary_cross_entropy(outputs, targets.to(torch.float), reduction='mean')"
      ],
      "execution_count": 0,
      "outputs": []
    },
    {
      "cell_type": "markdown",
      "metadata": {
        "id": "sLyj02_6oDM-",
        "colab_type": "text"
      },
      "source": [
        "## Test the model"
      ]
    },
    {
      "cell_type": "code",
      "metadata": {
        "id": "g6d-grOQmcHy",
        "colab_type": "code",
        "colab": {}
      },
      "source": [
        "net = LinkPredictNetworkTwo().cuda()"
      ],
      "execution_count": 0,
      "outputs": []
    },
    {
      "cell_type": "code",
      "metadata": {
        "id": "ftgXh7ytp2hf",
        "colab_type": "code",
        "colab": {}
      },
      "source": [
        "optimizer = optim.Adam(net.parameters(), lr=0.001)"
      ],
      "execution_count": 0,
      "outputs": []
    },
    {
      "cell_type": "code",
      "metadata": {
        "id": "7gsmAaXNm0c2",
        "colab_type": "code",
        "colab": {
          "base_uri": "https://localhost:8080/",
          "height": 1000
        },
        "outputId": "80c19e17-33f9-45c1-e722-88000b7f4e40"
      },
      "source": [
        "node_pair_dataset = NodePairDataset(\"processed_train_examples_product.csv\", \"processed_train_labels.csv\")\n",
        "for i in range(100):\n",
        "    loader = DataLoader(dataset=node_pair_dataset, batch_size=5000, shuffle=True)\n",
        "    print(\"epoch {}\".format(i))\n",
        "    for x, y in loader:\n",
        "\n",
        "        optimizer.zero_grad()\n",
        "        z = net(x.cuda())\n",
        "\n",
        "        loss = BinaryCrossEntropyLoss(z, y.cuda())\n",
        "        print(loss)\n",
        "\n",
        "        loss.backward()\n",
        "        optimizer.step()"
      ],
      "execution_count": 272,
      "outputs": [
        {
          "output_type": "stream",
          "text": [
            "epoch 0\n",
            "tensor(0.7135, device='cuda:0', grad_fn=<BinaryCrossEntropyBackward>)\n",
            "tensor(0.7190, device='cuda:0', grad_fn=<BinaryCrossEntropyBackward>)\n",
            "epoch 1\n",
            "tensor(0.7145, device='cuda:0', grad_fn=<BinaryCrossEntropyBackward>)\n",
            "tensor(0.7162, device='cuda:0', grad_fn=<BinaryCrossEntropyBackward>)\n",
            "epoch 2\n",
            "tensor(0.7122, device='cuda:0', grad_fn=<BinaryCrossEntropyBackward>)\n",
            "tensor(0.7179, device='cuda:0', grad_fn=<BinaryCrossEntropyBackward>)\n",
            "epoch 3\n",
            "tensor(0.7132, device='cuda:0', grad_fn=<BinaryCrossEntropyBackward>)\n",
            "tensor(0.7151, device='cuda:0', grad_fn=<BinaryCrossEntropyBackward>)\n",
            "epoch 4\n",
            "tensor(0.7116, device='cuda:0', grad_fn=<BinaryCrossEntropyBackward>)\n",
            "tensor(0.7160, device='cuda:0', grad_fn=<BinaryCrossEntropyBackward>)\n",
            "epoch 5\n",
            "tensor(0.7101, device='cuda:0', grad_fn=<BinaryCrossEntropyBackward>)\n",
            "tensor(0.7166, device='cuda:0', grad_fn=<BinaryCrossEntropyBackward>)\n",
            "epoch 6\n",
            "tensor(0.7131, device='cuda:0', grad_fn=<BinaryCrossEntropyBackward>)\n",
            "tensor(0.7113, device='cuda:0', grad_fn=<BinaryCrossEntropyBackward>)\n",
            "epoch 7\n",
            "tensor(0.7108, device='cuda:0', grad_fn=<BinaryCrossEntropyBackward>)\n",
            "tensor(0.7130, device='cuda:0', grad_fn=<BinaryCrossEntropyBackward>)\n",
            "epoch 8\n",
            "tensor(0.7141, device='cuda:0', grad_fn=<BinaryCrossEntropyBackward>)\n",
            "tensor(0.7074, device='cuda:0', grad_fn=<BinaryCrossEntropyBackward>)\n",
            "epoch 9\n",
            "tensor(0.7079, device='cuda:0', grad_fn=<BinaryCrossEntropyBackward>)\n",
            "tensor(0.7145, device='cuda:0', grad_fn=<BinaryCrossEntropyBackward>)\n",
            "epoch 10\n",
            "tensor(0.7120, device='cuda:0', grad_fn=<BinaryCrossEntropyBackward>)\n",
            "tensor(0.7077, device='cuda:0', grad_fn=<BinaryCrossEntropyBackward>)\n",
            "epoch 11\n",
            "tensor(0.7118, device='cuda:0', grad_fn=<BinaryCrossEntropyBackward>)\n",
            "tensor(0.7067, device='cuda:0', grad_fn=<BinaryCrossEntropyBackward>)\n",
            "epoch 12\n",
            "tensor(0.7080, device='cuda:0', grad_fn=<BinaryCrossEntropyBackward>)\n",
            "tensor(0.7107, device='cuda:0', grad_fn=<BinaryCrossEntropyBackward>)\n",
            "epoch 13\n",
            "tensor(0.7093, device='cuda:0', grad_fn=<BinaryCrossEntropyBackward>)\n",
            "tensor(0.7077, device='cuda:0', grad_fn=<BinaryCrossEntropyBackward>)\n",
            "epoch 14\n",
            "tensor(0.7082, device='cuda:0', grad_fn=<BinaryCrossEntropyBackward>)\n",
            "tensor(0.7081, device='cuda:0', grad_fn=<BinaryCrossEntropyBackward>)\n",
            "epoch 15\n",
            "tensor(0.7086, device='cuda:0', grad_fn=<BinaryCrossEntropyBackward>)\n",
            "tensor(0.7065, device='cuda:0', grad_fn=<BinaryCrossEntropyBackward>)\n",
            "epoch 16\n",
            "tensor(0.7079, device='cuda:0', grad_fn=<BinaryCrossEntropyBackward>)\n",
            "tensor(0.7064, device='cuda:0', grad_fn=<BinaryCrossEntropyBackward>)\n",
            "epoch 17\n",
            "tensor(0.7062, device='cuda:0', grad_fn=<BinaryCrossEntropyBackward>)\n",
            "tensor(0.7076, device='cuda:0', grad_fn=<BinaryCrossEntropyBackward>)\n",
            "epoch 18\n",
            "tensor(0.7067, device='cuda:0', grad_fn=<BinaryCrossEntropyBackward>)\n",
            "tensor(0.7060, device='cuda:0', grad_fn=<BinaryCrossEntropyBackward>)\n",
            "epoch 19\n",
            "tensor(0.7048, device='cuda:0', grad_fn=<BinaryCrossEntropyBackward>)\n",
            "tensor(0.7074, device='cuda:0', grad_fn=<BinaryCrossEntropyBackward>)\n",
            "epoch 20\n",
            "tensor(0.7072, device='cuda:0', grad_fn=<BinaryCrossEntropyBackward>)\n",
            "tensor(0.7033, device='cuda:0', grad_fn=<BinaryCrossEntropyBackward>)\n",
            "epoch 21\n",
            "tensor(0.7071, device='cuda:0', grad_fn=<BinaryCrossEntropyBackward>)\n",
            "tensor(0.7025, device='cuda:0', grad_fn=<BinaryCrossEntropyBackward>)\n",
            "epoch 22\n",
            "tensor(0.7058, device='cuda:0', grad_fn=<BinaryCrossEntropyBackward>)\n",
            "tensor(0.7033, device='cuda:0', grad_fn=<BinaryCrossEntropyBackward>)\n",
            "epoch 23\n",
            "tensor(0.7044, device='cuda:0', grad_fn=<BinaryCrossEntropyBackward>)\n",
            "tensor(0.7042, device='cuda:0', grad_fn=<BinaryCrossEntropyBackward>)\n",
            "epoch 24\n",
            "tensor(0.7034, device='cuda:0', grad_fn=<BinaryCrossEntropyBackward>)\n",
            "tensor(0.7047, device='cuda:0', grad_fn=<BinaryCrossEntropyBackward>)\n",
            "epoch 25\n",
            "tensor(0.7039, device='cuda:0', grad_fn=<BinaryCrossEntropyBackward>)\n",
            "tensor(0.7033, device='cuda:0', grad_fn=<BinaryCrossEntropyBackward>)\n",
            "epoch 26\n",
            "tensor(0.7033, device='cuda:0', grad_fn=<BinaryCrossEntropyBackward>)\n",
            "tensor(0.7032, device='cuda:0', grad_fn=<BinaryCrossEntropyBackward>)\n",
            "epoch 27\n",
            "tensor(0.7025, device='cuda:0', grad_fn=<BinaryCrossEntropyBackward>)\n",
            "tensor(0.7034, device='cuda:0', grad_fn=<BinaryCrossEntropyBackward>)\n",
            "epoch 28\n",
            "tensor(0.7046, device='cuda:0', grad_fn=<BinaryCrossEntropyBackward>)\n",
            "tensor(0.6999, device='cuda:0', grad_fn=<BinaryCrossEntropyBackward>)\n",
            "epoch 29\n",
            "tensor(0.7035, device='cuda:0', grad_fn=<BinaryCrossEntropyBackward>)\n",
            "tensor(0.7006, device='cuda:0', grad_fn=<BinaryCrossEntropyBackward>)\n",
            "epoch 30\n",
            "tensor(0.7040, device='cuda:0', grad_fn=<BinaryCrossEntropyBackward>)\n",
            "tensor(0.6992, device='cuda:0', grad_fn=<BinaryCrossEntropyBackward>)\n",
            "epoch 31\n",
            "tensor(0.7025, device='cuda:0', grad_fn=<BinaryCrossEntropyBackward>)\n",
            "tensor(0.7004, device='cuda:0', grad_fn=<BinaryCrossEntropyBackward>)\n",
            "epoch 32\n",
            "tensor(0.7013, device='cuda:0', grad_fn=<BinaryCrossEntropyBackward>)\n",
            "tensor(0.7013, device='cuda:0', grad_fn=<BinaryCrossEntropyBackward>)\n",
            "epoch 33\n",
            "tensor(0.7007, device='cuda:0', grad_fn=<BinaryCrossEntropyBackward>)\n",
            "tensor(0.7015, device='cuda:0', grad_fn=<BinaryCrossEntropyBackward>)\n",
            "epoch 34\n",
            "tensor(0.7016, device='cuda:0', grad_fn=<BinaryCrossEntropyBackward>)\n",
            "tensor(0.6996, device='cuda:0', grad_fn=<BinaryCrossEntropyBackward>)\n",
            "epoch 35\n",
            "tensor(0.7014, device='cuda:0', grad_fn=<BinaryCrossEntropyBackward>)\n",
            "tensor(0.6992, device='cuda:0', grad_fn=<BinaryCrossEntropyBackward>)\n",
            "epoch 36\n",
            "tensor(0.7013, device='cuda:0', grad_fn=<BinaryCrossEntropyBackward>)\n",
            "tensor(0.6987, device='cuda:0', grad_fn=<BinaryCrossEntropyBackward>)\n",
            "epoch 37\n",
            "tensor(0.6985, device='cuda:0', grad_fn=<BinaryCrossEntropyBackward>)\n",
            "tensor(0.7019, device='cuda:0', grad_fn=<BinaryCrossEntropyBackward>)\n",
            "epoch 38\n",
            "tensor(0.6992, device='cuda:0', grad_fn=<BinaryCrossEntropyBackward>)\n",
            "tensor(0.7004, device='cuda:0', grad_fn=<BinaryCrossEntropyBackward>)\n",
            "epoch 39\n",
            "tensor(0.6985, device='cuda:0', grad_fn=<BinaryCrossEntropyBackward>)\n",
            "tensor(0.7006, device='cuda:0', grad_fn=<BinaryCrossEntropyBackward>)\n",
            "epoch 40\n",
            "tensor(0.6980, device='cuda:0', grad_fn=<BinaryCrossEntropyBackward>)\n",
            "tensor(0.7008, device='cuda:0', grad_fn=<BinaryCrossEntropyBackward>)\n",
            "epoch 41\n",
            "tensor(0.6999, device='cuda:0', grad_fn=<BinaryCrossEntropyBackward>)\n",
            "tensor(0.6978, device='cuda:0', grad_fn=<BinaryCrossEntropyBackward>)\n",
            "epoch 42\n",
            "tensor(0.6991, device='cuda:0', grad_fn=<BinaryCrossEntropyBackward>)\n",
            "tensor(0.6982, device='cuda:0', grad_fn=<BinaryCrossEntropyBackward>)\n",
            "epoch 43\n",
            "tensor(0.6978, device='cuda:0', grad_fn=<BinaryCrossEntropyBackward>)\n",
            "tensor(0.6995, device='cuda:0', grad_fn=<BinaryCrossEntropyBackward>)\n",
            "epoch 44\n",
            "tensor(0.6993, device='cuda:0', grad_fn=<BinaryCrossEntropyBackward>)\n",
            "tensor(0.6970, device='cuda:0', grad_fn=<BinaryCrossEntropyBackward>)\n",
            "epoch 45\n",
            "tensor(0.6980, device='cuda:0', grad_fn=<BinaryCrossEntropyBackward>)\n",
            "tensor(0.6982, device='cuda:0', grad_fn=<BinaryCrossEntropyBackward>)\n",
            "epoch 46\n",
            "tensor(0.6979, device='cuda:0', grad_fn=<BinaryCrossEntropyBackward>)\n",
            "tensor(0.6979, device='cuda:0', grad_fn=<BinaryCrossEntropyBackward>)\n",
            "epoch 47\n",
            "tensor(0.6989, device='cuda:0', grad_fn=<BinaryCrossEntropyBackward>)\n",
            "tensor(0.6961, device='cuda:0', grad_fn=<BinaryCrossEntropyBackward>)\n",
            "epoch 48\n",
            "tensor(0.6987, device='cuda:0', grad_fn=<BinaryCrossEntropyBackward>)\n",
            "tensor(0.6960, device='cuda:0', grad_fn=<BinaryCrossEntropyBackward>)\n",
            "epoch 49\n",
            "tensor(0.6972, device='cuda:0', grad_fn=<BinaryCrossEntropyBackward>)\n",
            "tensor(0.6976, device='cuda:0', grad_fn=<BinaryCrossEntropyBackward>)\n",
            "epoch 50\n",
            "tensor(0.6979, device='cuda:0', grad_fn=<BinaryCrossEntropyBackward>)\n",
            "tensor(0.6962, device='cuda:0', grad_fn=<BinaryCrossEntropyBackward>)\n",
            "epoch 51\n",
            "tensor(0.6961, device='cuda:0', grad_fn=<BinaryCrossEntropyBackward>)\n",
            "tensor(0.6982, device='cuda:0', grad_fn=<BinaryCrossEntropyBackward>)\n",
            "epoch 52\n",
            "tensor(0.6969, device='cuda:0', grad_fn=<BinaryCrossEntropyBackward>)\n",
            "tensor(0.6968, device='cuda:0', grad_fn=<BinaryCrossEntropyBackward>)\n",
            "epoch 53\n",
            "tensor(0.6973, device='cuda:0', grad_fn=<BinaryCrossEntropyBackward>)\n",
            "tensor(0.6958, device='cuda:0', grad_fn=<BinaryCrossEntropyBackward>)\n",
            "epoch 54\n",
            "tensor(0.6975, device='cuda:0', grad_fn=<BinaryCrossEntropyBackward>)\n",
            "tensor(0.6953, device='cuda:0', grad_fn=<BinaryCrossEntropyBackward>)\n",
            "epoch 55\n",
            "tensor(0.6959, device='cuda:0', grad_fn=<BinaryCrossEntropyBackward>)\n",
            "tensor(0.6971, device='cuda:0', grad_fn=<BinaryCrossEntropyBackward>)\n",
            "epoch 56\n",
            "tensor(0.6958, device='cuda:0', grad_fn=<BinaryCrossEntropyBackward>)\n",
            "tensor(0.6969, device='cuda:0', grad_fn=<BinaryCrossEntropyBackward>)\n",
            "epoch 57\n",
            "tensor(0.6963, device='cuda:0', grad_fn=<BinaryCrossEntropyBackward>)\n",
            "tensor(0.6959, device='cuda:0', grad_fn=<BinaryCrossEntropyBackward>)\n",
            "epoch 58\n",
            "tensor(0.6962, device='cuda:0', grad_fn=<BinaryCrossEntropyBackward>)\n",
            "tensor(0.6957, device='cuda:0', grad_fn=<BinaryCrossEntropyBackward>)\n",
            "epoch 59\n",
            "tensor(0.6955, device='cuda:0', grad_fn=<BinaryCrossEntropyBackward>)\n",
            "tensor(0.6964, device='cuda:0', grad_fn=<BinaryCrossEntropyBackward>)\n",
            "epoch 60\n",
            "tensor(0.6950, device='cuda:0', grad_fn=<BinaryCrossEntropyBackward>)\n",
            "tensor(0.6967, device='cuda:0', grad_fn=<BinaryCrossEntropyBackward>)\n",
            "epoch 61\n",
            "tensor(0.6961, device='cuda:0', grad_fn=<BinaryCrossEntropyBackward>)\n",
            "tensor(0.6951, device='cuda:0', grad_fn=<BinaryCrossEntropyBackward>)\n",
            "epoch 62\n",
            "tensor(0.6964, device='cuda:0', grad_fn=<BinaryCrossEntropyBackward>)\n",
            "tensor(0.6944, device='cuda:0', grad_fn=<BinaryCrossEntropyBackward>)\n",
            "epoch 63\n",
            "tensor(0.6948, device='cuda:0', grad_fn=<BinaryCrossEntropyBackward>)\n",
            "tensor(0.6962, device='cuda:0', grad_fn=<BinaryCrossEntropyBackward>)\n",
            "epoch 64\n",
            "tensor(0.6945, device='cuda:0', grad_fn=<BinaryCrossEntropyBackward>)\n",
            "tensor(0.6964, device='cuda:0', grad_fn=<BinaryCrossEntropyBackward>)\n",
            "epoch 65\n",
            "tensor(0.6952, device='cuda:0', grad_fn=<BinaryCrossEntropyBackward>)\n",
            "tensor(0.6953, device='cuda:0', grad_fn=<BinaryCrossEntropyBackward>)\n",
            "epoch 66\n",
            "tensor(0.6951, device='cuda:0', grad_fn=<BinaryCrossEntropyBackward>)\n",
            "tensor(0.6951, device='cuda:0', grad_fn=<BinaryCrossEntropyBackward>)\n",
            "epoch 67\n",
            "tensor(0.6951, device='cuda:0', grad_fn=<BinaryCrossEntropyBackward>)\n",
            "tensor(0.6949, device='cuda:0', grad_fn=<BinaryCrossEntropyBackward>)\n",
            "epoch 68\n",
            "tensor(0.6952, device='cuda:0', grad_fn=<BinaryCrossEntropyBackward>)\n",
            "tensor(0.6946, device='cuda:0', grad_fn=<BinaryCrossEntropyBackward>)\n",
            "epoch 69\n",
            "tensor(0.6947, device='cuda:0', grad_fn=<BinaryCrossEntropyBackward>)\n",
            "tensor(0.6951, device='cuda:0', grad_fn=<BinaryCrossEntropyBackward>)\n",
            "epoch 70\n",
            "tensor(0.6942, device='cuda:0', grad_fn=<BinaryCrossEntropyBackward>)\n",
            "tensor(0.6955, device='cuda:0', grad_fn=<BinaryCrossEntropyBackward>)\n",
            "epoch 71\n",
            "tensor(0.6949, device='cuda:0', grad_fn=<BinaryCrossEntropyBackward>)\n",
            "tensor(0.6944, device='cuda:0', grad_fn=<BinaryCrossEntropyBackward>)\n",
            "epoch 72\n",
            "tensor(0.6937, device='cuda:0', grad_fn=<BinaryCrossEntropyBackward>)\n",
            "tensor(0.6958, device='cuda:0', grad_fn=<BinaryCrossEntropyBackward>)\n",
            "epoch 73\n",
            "tensor(0.6952, device='cuda:0', grad_fn=<BinaryCrossEntropyBackward>)\n",
            "tensor(0.6936, device='cuda:0', grad_fn=<BinaryCrossEntropyBackward>)\n",
            "epoch 74\n",
            "tensor(0.6946, device='cuda:0', grad_fn=<BinaryCrossEntropyBackward>)\n",
            "tensor(0.6943, device='cuda:0', grad_fn=<BinaryCrossEntropyBackward>)\n",
            "epoch 75\n",
            "tensor(0.6947, device='cuda:0', grad_fn=<BinaryCrossEntropyBackward>)\n",
            "tensor(0.6940, device='cuda:0', grad_fn=<BinaryCrossEntropyBackward>)\n",
            "epoch 76\n",
            "tensor(0.6946, device='cuda:0', grad_fn=<BinaryCrossEntropyBackward>)\n",
            "tensor(0.6940, device='cuda:0', grad_fn=<BinaryCrossEntropyBackward>)\n",
            "epoch 77\n",
            "tensor(0.6941, device='cuda:0', grad_fn=<BinaryCrossEntropyBackward>)\n",
            "tensor(0.6945, device='cuda:0', grad_fn=<BinaryCrossEntropyBackward>)\n",
            "epoch 78\n",
            "tensor(0.6946, device='cuda:0', grad_fn=<BinaryCrossEntropyBackward>)\n",
            "tensor(0.6937, device='cuda:0', grad_fn=<BinaryCrossEntropyBackward>)\n",
            "epoch 79\n",
            "tensor(0.6940, device='cuda:0', grad_fn=<BinaryCrossEntropyBackward>)\n",
            "tensor(0.6944, device='cuda:0', grad_fn=<BinaryCrossEntropyBackward>)\n",
            "epoch 80\n",
            "tensor(0.6944, device='cuda:0', grad_fn=<BinaryCrossEntropyBackward>)\n",
            "tensor(0.6938, device='cuda:0', grad_fn=<BinaryCrossEntropyBackward>)\n",
            "epoch 81\n",
            "tensor(0.6946, device='cuda:0', grad_fn=<BinaryCrossEntropyBackward>)\n",
            "tensor(0.6933, device='cuda:0', grad_fn=<BinaryCrossEntropyBackward>)\n",
            "epoch 82\n",
            "tensor(0.6936, device='cuda:0', grad_fn=<BinaryCrossEntropyBackward>)\n",
            "tensor(0.6946, device='cuda:0', grad_fn=<BinaryCrossEntropyBackward>)\n",
            "epoch 83\n",
            "tensor(0.6940, device='cuda:0', grad_fn=<BinaryCrossEntropyBackward>)\n",
            "tensor(0.6939, device='cuda:0', grad_fn=<BinaryCrossEntropyBackward>)\n",
            "epoch 84\n",
            "tensor(0.6941, device='cuda:0', grad_fn=<BinaryCrossEntropyBackward>)\n",
            "tensor(0.6937, device='cuda:0', grad_fn=<BinaryCrossEntropyBackward>)\n",
            "epoch 85\n",
            "tensor(0.6933, device='cuda:0', grad_fn=<BinaryCrossEntropyBackward>)\n",
            "tensor(0.6947, device='cuda:0', grad_fn=<BinaryCrossEntropyBackward>)\n",
            "epoch 86\n",
            "tensor(0.6936, device='cuda:0', grad_fn=<BinaryCrossEntropyBackward>)\n",
            "tensor(0.6943, device='cuda:0', grad_fn=<BinaryCrossEntropyBackward>)\n",
            "epoch 87\n",
            "tensor(0.6942, device='cuda:0', grad_fn=<BinaryCrossEntropyBackward>)\n",
            "tensor(0.6934, device='cuda:0', grad_fn=<BinaryCrossEntropyBackward>)\n",
            "epoch 88\n",
            "tensor(0.6933, device='cuda:0', grad_fn=<BinaryCrossEntropyBackward>)\n",
            "tensor(0.6944, device='cuda:0', grad_fn=<BinaryCrossEntropyBackward>)\n",
            "epoch 89\n",
            "tensor(0.6937, device='cuda:0', grad_fn=<BinaryCrossEntropyBackward>)\n",
            "tensor(0.6937, device='cuda:0', grad_fn=<BinaryCrossEntropyBackward>)\n",
            "epoch 90\n",
            "tensor(0.6936, device='cuda:0', grad_fn=<BinaryCrossEntropyBackward>)\n",
            "tensor(0.6939, device='cuda:0', grad_fn=<BinaryCrossEntropyBackward>)\n",
            "epoch 91\n",
            "tensor(0.6933, device='cuda:0', grad_fn=<BinaryCrossEntropyBackward>)\n",
            "tensor(0.6942, device='cuda:0', grad_fn=<BinaryCrossEntropyBackward>)\n",
            "epoch 92\n",
            "tensor(0.6937, device='cuda:0', grad_fn=<BinaryCrossEntropyBackward>)\n",
            "tensor(0.6936, device='cuda:0', grad_fn=<BinaryCrossEntropyBackward>)\n",
            "epoch 93\n",
            "tensor(0.6935, device='cuda:0', grad_fn=<BinaryCrossEntropyBackward>)\n",
            "tensor(0.6937, device='cuda:0', grad_fn=<BinaryCrossEntropyBackward>)\n",
            "epoch 94\n",
            "tensor(0.6939, device='cuda:0', grad_fn=<BinaryCrossEntropyBackward>)\n",
            "tensor(0.6932, device='cuda:0', grad_fn=<BinaryCrossEntropyBackward>)\n",
            "epoch 95\n",
            "tensor(0.6932, device='cuda:0', grad_fn=<BinaryCrossEntropyBackward>)\n",
            "tensor(0.6940, device='cuda:0', grad_fn=<BinaryCrossEntropyBackward>)\n",
            "epoch 96\n",
            "tensor(0.6931, device='cuda:0', grad_fn=<BinaryCrossEntropyBackward>)\n",
            "tensor(0.6941, device='cuda:0', grad_fn=<BinaryCrossEntropyBackward>)\n",
            "epoch 97\n",
            "tensor(0.6933, device='cuda:0', grad_fn=<BinaryCrossEntropyBackward>)\n",
            "tensor(0.6938, device='cuda:0', grad_fn=<BinaryCrossEntropyBackward>)\n",
            "epoch 98\n",
            "tensor(0.6934, device='cuda:0', grad_fn=<BinaryCrossEntropyBackward>)\n",
            "tensor(0.6936, device='cuda:0', grad_fn=<BinaryCrossEntropyBackward>)\n",
            "epoch 99\n",
            "tensor(0.6932, device='cuda:0', grad_fn=<BinaryCrossEntropyBackward>)\n",
            "tensor(0.6938, device='cuda:0', grad_fn=<BinaryCrossEntropyBackward>)\n"
          ],
          "name": "stdout"
        }
      ]
    }
  ]
}