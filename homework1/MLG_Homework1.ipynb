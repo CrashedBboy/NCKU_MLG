{
  "nbformat": 4,
  "nbformat_minor": 0,
  "metadata": {
    "colab": {
      "name": "MLG_Homework1.ipynb",
      "provenance": [],
      "collapsed_sections": [
        "4TX-TgB4OEIy"
      ]
    },
    "kernelspec": {
      "name": "python3",
      "display_name": "Python 3"
    },
    "accelerator": "GPU"
  },
  "cells": [
    {
      "cell_type": "markdown",
      "metadata": {
        "id": "4TX-TgB4OEIy",
        "colab_type": "text"
      },
      "source": [
        "## Install torch-geometric and other required packages"
      ]
    },
    {
      "cell_type": "code",
      "metadata": {
        "id": "sl_NoT15ODAE",
        "colab_type": "code",
        "outputId": "beb85b4d-e055-4933-aa8c-223a44826ea8",
        "colab": {
          "base_uri": "https://localhost:8080/",
          "height": 918
        }
      },
      "source": [
        "!pip install torch-scatter==latest+cu101 torch-sparse==latest+cu101 -f https://s3.eu-central-1.amazonaws.com/pytorch-geometric.com/whl/torch-1.4.0.html\n",
        "!pip install torch-geometric"
      ],
      "execution_count": 0,
      "outputs": [
        {
          "output_type": "stream",
          "text": [
            "Looking in links: https://s3.eu-central-1.amazonaws.com/pytorch-geometric.com/whl/torch-1.4.0.html\n",
            "Collecting torch-scatter==latest+cu101\n",
            "  Using cached https://s3.eu-central-1.amazonaws.com/pytorch-geometric.com/whl/torch-1.4.0/torch_scatter-latest%2Bcu101-cp36-cp36m-linux_x86_64.whl\n",
            "Collecting torch-sparse==latest+cu101\n",
            "  Using cached https://s3.eu-central-1.amazonaws.com/pytorch-geometric.com/whl/torch-1.4.0/torch_sparse-latest%2Bcu101-cp36-cp36m-linux_x86_64.whl\n",
            "Requirement already satisfied: scipy in /usr/local/lib/python3.6/dist-packages (from torch-sparse==latest+cu101) (1.4.1)\n",
            "Requirement already satisfied: numpy>=1.13.3 in /usr/local/lib/python3.6/dist-packages (from scipy->torch-sparse==latest+cu101) (1.18.1)\n",
            "Installing collected packages: torch-scatter, torch-sparse\n",
            "  Found existing installation: torch-scatter 2.0.4\n",
            "    Uninstalling torch-scatter-2.0.4:\n",
            "      Successfully uninstalled torch-scatter-2.0.4\n",
            "  Found existing installation: torch-sparse 0.6.0\n",
            "    Uninstalling torch-sparse-0.6.0:\n",
            "      Successfully uninstalled torch-sparse-0.6.0\n",
            "Successfully installed torch-scatter-2.0.4 torch-sparse-0.6.0\n"
          ],
          "name": "stdout"
        },
        {
          "output_type": "display_data",
          "data": {
            "application/vnd.colab-display-data+json": {
              "pip_warning": {
                "packages": [
                  "torch_scatter",
                  "torch_sparse"
                ]
              }
            }
          },
          "metadata": {
            "tags": []
          }
        },
        {
          "output_type": "stream",
          "text": [
            "Requirement already satisfied: torch-geometric in /usr/local/lib/python3.6/dist-packages (1.4.2)\n",
            "Requirement already satisfied: googledrivedownloader in /usr/local/lib/python3.6/dist-packages (from torch-geometric) (0.4)\n",
            "Requirement already satisfied: scikit-image in /usr/local/lib/python3.6/dist-packages (from torch-geometric) (0.16.2)\n",
            "Requirement already satisfied: numba in /usr/local/lib/python3.6/dist-packages (from torch-geometric) (0.47.0)\n",
            "Requirement already satisfied: pandas in /usr/local/lib/python3.6/dist-packages (from torch-geometric) (0.25.3)\n",
            "Requirement already satisfied: scikit-learn in /usr/local/lib/python3.6/dist-packages (from torch-geometric) (0.22.2.post1)\n",
            "Requirement already satisfied: plyfile in /usr/local/lib/python3.6/dist-packages (from torch-geometric) (0.7.1)\n",
            "Requirement already satisfied: h5py in /usr/local/lib/python3.6/dist-packages (from torch-geometric) (2.8.0)\n",
            "Requirement already satisfied: torch in /usr/local/lib/python3.6/dist-packages (from torch-geometric) (1.4.0)\n",
            "Requirement already satisfied: networkx in /usr/local/lib/python3.6/dist-packages (from torch-geometric) (2.4)\n",
            "Requirement already satisfied: rdflib in /usr/local/lib/python3.6/dist-packages (from torch-geometric) (4.2.2)\n",
            "Requirement already satisfied: scipy in /usr/local/lib/python3.6/dist-packages (from torch-geometric) (1.4.1)\n",
            "Requirement already satisfied: numpy in /usr/local/lib/python3.6/dist-packages (from torch-geometric) (1.18.1)\n",
            "Requirement already satisfied: requests in /usr/local/lib/python3.6/dist-packages (from torch-geometric) (2.21.0)\n",
            "Requirement already satisfied: pillow>=4.3.0 in /usr/local/lib/python3.6/dist-packages (from scikit-image->torch-geometric) (7.0.0)\n",
            "Requirement already satisfied: imageio>=2.3.0 in /usr/local/lib/python3.6/dist-packages (from scikit-image->torch-geometric) (2.4.1)\n",
            "Requirement already satisfied: PyWavelets>=0.4.0 in /usr/local/lib/python3.6/dist-packages (from scikit-image->torch-geometric) (1.1.1)\n",
            "Requirement already satisfied: matplotlib!=3.0.0,>=2.0.0 in /usr/local/lib/python3.6/dist-packages (from scikit-image->torch-geometric) (3.2.0)\n",
            "Requirement already satisfied: llvmlite>=0.31.0dev0 in /usr/local/lib/python3.6/dist-packages (from numba->torch-geometric) (0.31.0)\n",
            "Requirement already satisfied: setuptools in /usr/local/lib/python3.6/dist-packages (from numba->torch-geometric) (45.2.0)\n",
            "Requirement already satisfied: pytz>=2017.2 in /usr/local/lib/python3.6/dist-packages (from pandas->torch-geometric) (2018.9)\n",
            "Requirement already satisfied: python-dateutil>=2.6.1 in /usr/local/lib/python3.6/dist-packages (from pandas->torch-geometric) (2.8.1)\n",
            "Requirement already satisfied: joblib>=0.11 in /usr/local/lib/python3.6/dist-packages (from scikit-learn->torch-geometric) (0.14.1)\n",
            "Requirement already satisfied: six in /usr/local/lib/python3.6/dist-packages (from h5py->torch-geometric) (1.12.0)\n",
            "Requirement already satisfied: decorator>=4.3.0 in /usr/local/lib/python3.6/dist-packages (from networkx->torch-geometric) (4.4.2)\n",
            "Requirement already satisfied: isodate in /usr/local/lib/python3.6/dist-packages (from rdflib->torch-geometric) (0.6.0)\n",
            "Requirement already satisfied: pyparsing in /usr/local/lib/python3.6/dist-packages (from rdflib->torch-geometric) (2.4.6)\n",
            "Requirement already satisfied: idna<2.9,>=2.5 in /usr/local/lib/python3.6/dist-packages (from requests->torch-geometric) (2.8)\n",
            "Requirement already satisfied: chardet<3.1.0,>=3.0.2 in /usr/local/lib/python3.6/dist-packages (from requests->torch-geometric) (3.0.4)\n",
            "Requirement already satisfied: urllib3<1.25,>=1.21.1 in /usr/local/lib/python3.6/dist-packages (from requests->torch-geometric) (1.24.3)\n",
            "Requirement already satisfied: certifi>=2017.4.17 in /usr/local/lib/python3.6/dist-packages (from requests->torch-geometric) (2019.11.28)\n",
            "Requirement already satisfied: cycler>=0.10 in /usr/local/lib/python3.6/dist-packages (from matplotlib!=3.0.0,>=2.0.0->scikit-image->torch-geometric) (0.10.0)\n",
            "Requirement already satisfied: kiwisolver>=1.0.1 in /usr/local/lib/python3.6/dist-packages (from matplotlib!=3.0.0,>=2.0.0->scikit-image->torch-geometric) (1.1.0)\n"
          ],
          "name": "stdout"
        }
      ]
    },
    {
      "cell_type": "markdown",
      "metadata": {
        "id": "SOcyZuzx27_W",
        "colab_type": "text"
      },
      "source": [
        "## Package Initialization"
      ]
    },
    {
      "cell_type": "code",
      "metadata": {
        "id": "YAe4nKq48rJQ",
        "colab_type": "code",
        "colab": {}
      },
      "source": [
        "import numpy as np\n",
        "\n",
        "import math\n",
        "\n",
        "import torch\n",
        "import torch.nn as nn\n",
        "import torch.nn.functional as F\n",
        "import torch.optim as optim"
      ],
      "execution_count": 0,
      "outputs": []
    },
    {
      "cell_type": "markdown",
      "metadata": {
        "id": "uTFIp_fUAqng",
        "colab_type": "text"
      },
      "source": [
        "## Upload training data to Google Colab VM"
      ]
    },
    {
      "cell_type": "code",
      "metadata": {
        "id": "Hupb9Vzb9akV",
        "colab_type": "code",
        "outputId": "b21ae4e2-a342-4c0e-cef8-0a792532de73",
        "colab": {
          "resources": {
            "http://localhost:8080/nbextensions/google.colab/files.js": {
              "data": "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",
              "ok": true,
              "headers": [
                [
                  "content-type",
                  "application/javascript"
                ]
              ],
              "status": 200,
              "status_text": ""
            }
          },
          "base_uri": "https://localhost:8080/",
          "height": 178
        }
      },
      "source": [
        "# upload training and testing data\n",
        "from google.colab import files\n",
        "\n",
        "uploaded = files.upload()"
      ],
      "execution_count": 2,
      "outputs": [
        {
          "output_type": "display_data",
          "data": {
            "text/html": [
              "\n",
              "     <input type=\"file\" id=\"files-917178b5-2ef8-4e44-8d35-410ee56a1eac\" name=\"files[]\" multiple disabled />\n",
              "     <output id=\"result-917178b5-2ef8-4e44-8d35-410ee56a1eac\">\n",
              "      Upload widget is only available when the cell has been executed in the\n",
              "      current browser session. Please rerun this cell to enable.\n",
              "      </output>\n",
              "      <script src=\"/nbextensions/google.colab/files.js\"></script> "
            ],
            "text/plain": [
              "<IPython.core.display.HTML object>"
            ]
          },
          "metadata": {
            "tags": []
          }
        },
        {
          "output_type": "stream",
          "text": [
            "Saving 0.txt to 0.txt\n",
            "Saving 0_score.txt to 0_score.txt\n",
            "Saving 1.txt to 1.txt\n",
            "Saving 1_score.txt to 1_score.txt\n"
          ],
          "name": "stdout"
        }
      ]
    },
    {
      "cell_type": "code",
      "metadata": {
        "id": "DVzG3JTOjONJ",
        "colab_type": "code",
        "outputId": "75c72aa7-ae72-4c6a-e8a4-e7488f9430dc",
        "colab": {
          "base_uri": "https://localhost:8080/",
          "height": 34
        }
      },
      "source": [
        "!ls"
      ],
      "execution_count": 3,
      "outputs": [
        {
          "output_type": "stream",
          "text": [
            "0_score.txt  0.txt  1_score.txt  1.txt\tsample_data\n"
          ],
          "name": "stdout"
        }
      ]
    },
    {
      "cell_type": "markdown",
      "metadata": {
        "id": "02vrTR0t-s4J",
        "colab_type": "text"
      },
      "source": [
        "## process training data and targets"
      ]
    },
    {
      "cell_type": "code",
      "metadata": {
        "id": "F2PxKBvPT7cq",
        "colab_type": "code",
        "colab": {}
      },
      "source": [
        "# function to get torch_geometric.data.Data object from sythnetic graph\n",
        "def get_synthetic_data(number = 0):\n",
        "\n",
        "    # read network file\n",
        "    edges = []\n",
        "    with open(str(number) + \".txt\", \"r\") as file:\n",
        "        lines = file.readlines();\n",
        "\n",
        "        for line in lines:\n",
        "            if len(line) == 0:\n",
        "                continue\n",
        "            edge = line.split(\"\\t\")\n",
        "            edge[0] = int(edge[0])\n",
        "            edge[1] = int(edge[1])\n",
        "            edges.append(edge)\n",
        "\n",
        "        edges= torch.tensor(np.array(edges), dtype=torch.long)\n",
        "\n",
        "    # read node score file\n",
        "    node_scores = []\n",
        "    with open(\"0_score.txt\", \"r\") as file:\n",
        "        lines = file.readlines();\n",
        "\n",
        "        for line in lines:\n",
        "            if len(line) == 0:\n",
        "                continue\n",
        "            sequences = line.split(\"\\t\")\n",
        "            node_scores.append(float(sequences[1]))\n",
        "\n",
        "        node_scores = torch.tensor(np.array(node_scores), dtype=torch.float)\n",
        "\n",
        "    return (edges, node_scores)"
      ],
      "execution_count": 0,
      "outputs": []
    },
    {
      "cell_type": "code",
      "metadata": {
        "id": "NcaNQoAcbTjg",
        "colab_type": "code",
        "colab": {}
      },
      "source": [
        "edges, node_scores = get_synthetic_data(0)"
      ],
      "execution_count": 0,
      "outputs": []
    },
    {
      "cell_type": "code",
      "metadata": {
        "id": "I45UEA0bbhhO",
        "colab_type": "code",
        "outputId": "2295cb71-1d85-4c03-c241-7594b38a68d2",
        "colab": {
          "base_uri": "https://localhost:8080/",
          "height": 170
        }
      },
      "source": [
        "print(edges)\n",
        "print(node_scores)"
      ],
      "execution_count": 6,
      "outputs": [
        {
          "output_type": "stream",
          "text": [
            "tensor([[   0,    4],\n",
            "        [   0,    5],\n",
            "        [   0,    8],\n",
            "        ...,\n",
            "        [4844, 4849],\n",
            "        [4870, 4928],\n",
            "        [4937, 4953]])\n",
            "tensor([9.4175e-02, 5.3971e-02, 4.4344e-02,  ..., 1.9542e-05, 6.0578e-05,\n",
            "        1.0908e-04])\n"
          ],
          "name": "stdout"
        }
      ]
    },
    {
      "cell_type": "markdown",
      "metadata": {
        "id": "xyxwlCJzJMPl",
        "colab_type": "text"
      },
      "source": [
        "## Compute every node's degree"
      ]
    },
    {
      "cell_type": "code",
      "metadata": {
        "id": "hMpaI_tz3qoF",
        "colab_type": "code",
        "colab": {}
      },
      "source": [
        "node_number = node_scores.size()[0]"
      ],
      "execution_count": 0,
      "outputs": []
    },
    {
      "cell_type": "code",
      "metadata": {
        "id": "jQbKaJYnJSwY",
        "colab_type": "code",
        "colab": {}
      },
      "source": [
        "degrees = []\n",
        "degrees_dict = {}\n",
        "\n",
        "for edge in edges:\n",
        "    for node in edge:\n",
        "        str_index = str(node.item())\n",
        "        if str_index not in degrees_dict:\n",
        "            degrees_dict[str_index] = 1\n",
        "        elif degrees_dict[str_index] >= 1:\n",
        "            degrees_dict[str_index] += 1\n",
        "\n",
        "for i in range(node_number):\n",
        "    degrees.append(degrees_dict[str(i)])\n",
        "\n",
        "degrees = torch.Tensor(np.array(degrees))\n",
        "degrees_dict = None\n"
      ],
      "execution_count": 0,
      "outputs": []
    },
    {
      "cell_type": "code",
      "metadata": {
        "id": "Q1XDZSoVNjXq",
        "colab_type": "code",
        "outputId": "0a2cfbaa-6cd3-46b8-e56c-c92511d92870",
        "colab": {
          "base_uri": "https://localhost:8080/",
          "height": 34
        }
      },
      "source": [
        "degrees.size()"
      ],
      "execution_count": 10,
      "outputs": [
        {
          "output_type": "execute_result",
          "data": {
            "text/plain": [
              "torch.Size([5000])"
            ]
          },
          "metadata": {
            "tags": []
          },
          "execution_count": 10
        }
      ]
    },
    {
      "cell_type": "markdown",
      "metadata": {
        "id": "kAkfM_pDVoxl",
        "colab_type": "text"
      },
      "source": [
        "## Define DrBC Network"
      ]
    },
    {
      "cell_type": "code",
      "metadata": {
        "id": "fp_UUjj3VsVa",
        "colab_type": "code",
        "colab": {}
      },
      "source": [
        "class DrBCNetwork(nn.Module):\n",
        "    def __init__(self, input_dimension = 3, embedding_dimension = 128):\n",
        "        super(DrBCNetwork, self).__init__()\n",
        "\n",
        "        self.input_dimension = input_dimension\n",
        "        self.embedding_dimension = embedding_dimension\n",
        "        self.linear1 = nn.Linear(self.input_dimension, self.embedding_dimension, bias=False)\n",
        "        self.gru_cell1 = nn.GRUCell(self.embedding_dimension, self.embedding_dimension, bias=False)\n",
        "        self.gru_cell2 = nn.GRUCell(self.embedding_dimension, self.embedding_dimension, bias=False)\n",
        "        self.linear2 = nn.Linear(self.embedding_dimension, int(self.embedding_dimension / 2), bias=False)\n",
        "        self.linear3 = nn.Linear(int(self.embedding_dimension / 2), 1, bias=False)\n",
        "\n",
        "        # aggregation weights look-up table\n",
        "        sqrt_degrees = degrees.sqrt()\n",
        "        self.aggregation_weights = torch.zeros([node_number, node_number], dtype=torch.float32)\n",
        "        for i in range(node_number):\n",
        "            if i % 500 == 0:\n",
        "                print(\"calculating aggregation weights: {}/{}\".format(i, node_number))\n",
        "            for j in range(i):\n",
        "                self.aggregation_weights[i, j] = 1 / (sqrt_degrees[i].item()*sqrt_degrees[j].item() + 1e-7)\n",
        "\n",
        "        # make it diagonal symmetry matrix\n",
        "        self.aggregation_weights = self.aggregation_weights.T + self.aggregation_weights\n",
        "        sqrt_degrees = None\n",
        "        \n",
        "        # node neighborhood look-up table\n",
        "        self.neighborhood = torch.zeros([node_number, node_number], dtype=torch.bool)\n",
        "        for edge in edges:\n",
        "            source, target = edge\n",
        "            self.neighborhood[source.item(), target.item()] = self.neighborhood[target.item(), source.item()] = 1\n",
        "\n",
        "    \n",
        "    def forward(self, x):\n",
        "\n",
        "        # Encoding\n",
        "        # ============================================================================================\n",
        "\n",
        "        # x's shape: [node_number, 3] --> use all node without batching\n",
        "\n",
        "        h0 = x\n",
        "        h1 = F.normalize(F.relu(self.linear1(h0))) # h1: [node_number, embedding_dimension]\n",
        "\n",
        "        # neighborhood aggregation: layer 2\n",
        "        h2n =  torch.mm(self.neighborhood * self.aggregation_weights, h1) # h2n: [node_number, embedding_dimension]\n",
        "        \n",
        "        # combination: layer 2\n",
        "        h2 = self.gru_cell1(h2n, h1) # h2: [node_number, embedding_dimenstion]\n",
        "\n",
        "        # normalize the embedding vector\n",
        "        h2 = F.normalize(h2)\n",
        "\n",
        "        # neighborhood aggregation: layer 3\n",
        "        h3n = torch.mm(self.neighborhood * self.aggregation_weights, h2) # h3n: [node_number, embedding_dimension]\n",
        "        \n",
        "        # combination: layer 3\n",
        "        h3 = self.gru_cell2(h3n, h2) # h3: [node_number, embedding_dimenstion]\n",
        "\n",
        "        # normalize the embedding vector\n",
        "        h3 = F.normalize(h3)\n",
        "\n",
        "        # layer aggregation: element-wise max pooling\n",
        "        z = torch.max(torch.max(h1, h2), h3)\n",
        "\n",
        "        # Decoding\n",
        "        # ===========================================================================================\n",
        "\n",
        "        # 1-st fully-connected\n",
        "        z = self.linear2(z)\n",
        "        z = F.relu(z)\n",
        "\n",
        "        z = self.linear3(z)\n",
        "\n",
        "        return z\n",
        "        "
      ],
      "execution_count": 0,
      "outputs": []
    },
    {
      "cell_type": "markdown",
      "metadata": {
        "id": "G73tNHtoph1T",
        "colab_type": "text"
      },
      "source": [
        "## Define Loss Function"
      ]
    },
    {
      "cell_type": "code",
      "metadata": {
        "id": "VE4zX7VTnr8k",
        "colab_type": "code",
        "colab": {}
      },
      "source": [
        "class PairwiseRankingLoss(nn.Module):\n",
        "    def __init__(self, sample_number):\n",
        "        super(PairwiseRankingLoss, self).__init__()\n",
        "        self.sample_number = sample_number\n",
        "        \n",
        "    def forward(self, outputs, targets):\n",
        "\n",
        "        errors = torch.zeros([self.sample_number])\n",
        "\n",
        "        # draw samples from prediction outputs and targets\n",
        "        for i in range(self.sample_number):\n",
        "            perm = torch.randperm(outputs.size(0))\n",
        "            index = perm[:2]\n",
        "            y_diff = outputs[index][0].item() - outputs[index][1].item()\n",
        "            b_diff = targets[index][0].item() - targets[index][1].item()\n",
        "\n",
        "            errors[i] = (-1) * self.sigmoid(b_diff) * math.log( self.sigmoid(y_diff) ) - (1 - self.sigmoid(b_diff)) * math.log(1 - self.sigmoid(y_diff))\n",
        "\n",
        "        return torch.sum(errors)\n",
        "\n",
        "    def sigmoid(self, x):\n",
        "        return (1 / (1 + math.exp( -1 * x )))"
      ],
      "execution_count": 0,
      "outputs": []
    },
    {
      "cell_type": "code",
      "metadata": {
        "id": "BTA3ImSho9_y",
        "colab_type": "code",
        "colab": {}
      },
      "source": [
        "def SoftmaxLoss(outputs, targets):\n",
        "    # softmax\n",
        "    return torch.sum(torch.abs(F.softmax(outputs, dim=0) - F.softmax(targets, dim=0)))"
      ],
      "execution_count": 0,
      "outputs": []
    },
    {
      "cell_type": "markdown",
      "metadata": {
        "id": "Oc7SL5mh1LYk",
        "colab_type": "text"
      },
      "source": [
        "## Training"
      ]
    },
    {
      "cell_type": "code",
      "metadata": {
        "id": "DQy9X_q20Nxt",
        "colab_type": "code",
        "colab": {}
      },
      "source": [
        "# constants\n",
        "LEARNING_RATE = 0.0001\n",
        "EPOCHS = 100"
      ],
      "execution_count": 0,
      "outputs": []
    },
    {
      "cell_type": "code",
      "metadata": {
        "id": "BISBgxw5fjCH",
        "colab_type": "code",
        "outputId": "9685baea-d87c-4201-ec76-369026f1f4a5",
        "colab": {
          "base_uri": "https://localhost:8080/",
          "height": 187
        }
      },
      "source": [
        "# create network object\n",
        "drbc = DrBCNetwork(input_dimension=3)"
      ],
      "execution_count": 29,
      "outputs": [
        {
          "output_type": "stream",
          "text": [
            "calculating aggregation weights: 0/5000\n",
            "calculating aggregation weights: 500/5000\n",
            "calculating aggregation weights: 1000/5000\n",
            "calculating aggregation weights: 1500/5000\n",
            "calculating aggregation weights: 2000/5000\n",
            "calculating aggregation weights: 2500/5000\n",
            "calculating aggregation weights: 3000/5000\n",
            "calculating aggregation weights: 3500/5000\n",
            "calculating aggregation weights: 4000/5000\n",
            "calculating aggregation weights: 4500/5000\n"
          ],
          "name": "stdout"
        }
      ]
    },
    {
      "cell_type": "code",
      "metadata": {
        "id": "gmQdpps6y4hL",
        "colab_type": "code",
        "colab": {}
      },
      "source": [
        "# create optimizer (Adam used)\n",
        "optimizer = optim.Adam(drbc.parameters(), lr=LEARNING_RATE)"
      ],
      "execution_count": 0,
      "outputs": []
    },
    {
      "cell_type": "code",
      "metadata": {
        "id": "h5gVZ8BJyN54",
        "colab_type": "code",
        "colab": {
          "base_uri": "https://localhost:8080/",
          "height": 68
        },
        "outputId": "d1aacb11-c69b-474f-a52f-01a34b718cf3"
      },
      "source": [
        "# prepare data x\n",
        "x = torch.ones([node_number, 3])\n",
        "for i in range(node_number):\n",
        "    x[i][0] = degrees[i]\n",
        "\n",
        "x[:3]"
      ],
      "execution_count": 16,
      "outputs": [
        {
          "output_type": "execute_result",
          "data": {
            "text/plain": [
              "tensor([[239.,   1.,   1.],\n",
              "        [178.,   1.,   1.],\n",
              "        [149.,   1.,   1.]])"
            ]
          },
          "metadata": {
            "tags": []
          },
          "execution_count": 16
        }
      ]
    },
    {
      "cell_type": "code",
      "metadata": {
        "id": "KRRKxCKV1M8L",
        "colab_type": "code",
        "colab": {
          "base_uri": "https://localhost:8080/",
          "height": 1000
        },
        "outputId": "035a5362-dff3-47bb-8d2d-076359f7ee50"
      },
      "source": [
        "history = torch.zeros([EPOCHS])\n",
        "for i in range(EPOCHS):\n",
        "\n",
        "    optimizer.zero_grad()   # zero the gradient buffers\n",
        "    z = drbc(x)\n",
        "    loss = SoftmaxLoss(z, node_scores.unsqueeze(1))\n",
        "    print(\"Loss: {}\".format(loss))\n",
        "    history[i] = loss\n",
        "    loss.backward()\n",
        "    optimizer.step()"
      ],
      "execution_count": 34,
      "outputs": [
        {
          "output_type": "stream",
          "text": [
            "Loss: 0.003818470984697342\n",
            "Loss: 0.0028907391242682934\n",
            "Loss: 0.0021071620285511017\n",
            "Loss: 0.001522190636023879\n",
            "Loss: 0.001190211740322411\n",
            "Loss: 0.0010881501948460937\n",
            "Loss: 0.0011098162503913045\n",
            "Loss: 0.0011260474566370249\n",
            "Loss: 0.0010669832117855549\n",
            "Loss: 0.0009470422519370914\n",
            "Loss: 0.0008201384916901588\n",
            "Loss: 0.0007215249352157116\n",
            "Loss: 0.0006566948140971363\n",
            "Loss: 0.0006286623538471758\n",
            "Loss: 0.0006289605516940355\n",
            "Loss: 0.0006239519570954144\n",
            "Loss: 0.0005826819688081741\n",
            "Loss: 0.000513772014528513\n",
            "Loss: 0.0004512725572567433\n",
            "Loss: 0.0004318689461797476\n",
            "Loss: 0.0004648250760510564\n",
            "Loss: 0.0004541001981124282\n",
            "Loss: 0.00041481287917122245\n",
            "Loss: 0.0004101405502296984\n",
            "Loss: 0.0004296363622415811\n",
            "Loss: 0.00043649409781210124\n",
            "Loss: 0.0004267124750185758\n",
            "Loss: 0.00040762737626209855\n",
            "Loss: 0.0003905317571479827\n",
            "Loss: 0.00039178982842713594\n",
            "Loss: 0.00039211075636558235\n",
            "Loss: 0.00037089307443238795\n",
            "Loss: 0.0003598705807235092\n",
            "Loss: 0.0003579215263016522\n",
            "Loss: 0.0003545053186826408\n",
            "Loss: 0.00034619506914168596\n",
            "Loss: 0.0003329367027617991\n",
            "Loss: 0.0003325976140331477\n",
            "Loss: 0.00033419241663068533\n",
            "Loss: 0.0003223377570975572\n",
            "Loss: 0.0003217760531697422\n",
            "Loss: 0.00032240489963442087\n",
            "Loss: 0.00031601241789758205\n",
            "Loss: 0.0003096163854934275\n",
            "Loss: 0.0003118401509709656\n",
            "Loss: 0.00030688702827319503\n",
            "Loss: 0.00030058936681598425\n",
            "Loss: 0.0003001453587785363\n",
            "Loss: 0.00029508117586374283\n",
            "Loss: 0.0002935398370027542\n",
            "Loss: 0.00029061478562653065\n",
            "Loss: 0.0002871364704333246\n",
            "Loss: 0.00028768059564754367\n",
            "Loss: 0.00028332375222817063\n",
            "Loss: 0.0002835238119587302\n",
            "Loss: 0.0002798407804220915\n",
            "Loss: 0.00027933542151004076\n",
            "Loss: 0.0002769182901829481\n",
            "Loss: 0.0002750345738604665\n",
            "Loss: 0.0002738884650170803\n",
            "Loss: 0.0002722464269027114\n",
            "Loss: 0.000270869059022516\n",
            "Loss: 0.00026917620562016964\n",
            "Loss: 0.0002679104218259454\n",
            "Loss: 0.0002669819223228842\n",
            "Loss: 0.0002653182309586555\n",
            "Loss: 0.00026409991551190615\n",
            "Loss: 0.0002624148328322917\n",
            "Loss: 0.0002617345890030265\n",
            "Loss: 0.00025987514527514577\n",
            "Loss: 0.0002591353841125965\n",
            "Loss: 0.0002569622593000531\n",
            "Loss: 0.00025620858650654554\n",
            "Loss: 0.00025446468498557806\n",
            "Loss: 0.0002535823150537908\n",
            "Loss: 0.0002525670570321381\n",
            "Loss: 0.0002507921599317342\n",
            "Loss: 0.0002502331044524908\n",
            "Loss: 0.00024870215565897524\n",
            "Loss: 0.00024647690588608384\n",
            "Loss: 0.00024681055219843984\n",
            "Loss: 0.00024574302369728684\n",
            "Loss: 0.00024232632131315768\n",
            "Loss: 0.00024397429660893977\n",
            "Loss: 0.00024027713516261429\n",
            "Loss: 0.0002379841316724196\n",
            "Loss: 0.00023849852732382715\n",
            "Loss: 0.00023431336740031838\n",
            "Loss: 0.0002316741883987561\n",
            "Loss: 0.00023413564485963434\n",
            "Loss: 0.00023123023856896907\n",
            "Loss: 0.0002277332969242707\n",
            "Loss: 0.00023188623890746385\n",
            "Loss: 0.00022688151511829346\n",
            "Loss: 0.00022591478773392737\n",
            "Loss: 0.00022669298050459474\n",
            "Loss: 0.00022191961761564016\n",
            "Loss: 0.00022282238933257759\n",
            "Loss: 0.00022014480782672763\n",
            "Loss: 0.00021961258607916534\n"
          ],
          "name": "stdout"
        }
      ]
    },
    {
      "cell_type": "markdown",
      "metadata": {
        "id": "2yeufYI9A5Pg",
        "colab_type": "text"
      },
      "source": [
        "plot the errors"
      ]
    },
    {
      "cell_type": "code",
      "metadata": {
        "id": "9pi1oRLlA8Zm",
        "colab_type": "code",
        "colab": {}
      },
      "source": [
        "import matplotlib\n",
        "import matplotlib.pyplot as plt"
      ],
      "execution_count": 0,
      "outputs": []
    },
    {
      "cell_type": "code",
      "metadata": {
        "id": "XRb2NHkfB6pi",
        "colab_type": "code",
        "colab": {
          "base_uri": "https://localhost:8080/",
          "height": 295
        },
        "outputId": "918dd516-55ee-434f-9be1-0105425214ac"
      },
      "source": [
        "\n",
        "plt.plot(history.detach().numpy())\n",
        "plt.xlabel(\"Epochs\")\n",
        "plt.ylabel(\"Loss\")\n",
        "plt.title(\"Training history of Loss\")\n",
        "plt.show()"
      ],
      "execution_count": 40,
      "outputs": [
        {
          "output_type": "display_data",
          "data": {
            "image/png": "[encoded data removed]",
            "text/plain": [
              "<Figure size 432x288 with 1 Axes>"
            ]
          },
          "metadata": {
            "tags": []
          }
        }
      ]
    },
    {
      "cell_type": "markdown",
      "metadata": {
        "id": "z2E7ZAFw_mCM",
        "colab_type": "text"
      },
      "source": [
        "## Discussion\n",
        "* How to handle if graph is highly dynamic (nodes' degrees change frequently)"
      ]
    }
  ]
}