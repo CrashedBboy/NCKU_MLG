{
  "nbformat": 4,
  "nbformat_minor": 0,
  "metadata": {
    "colab": {
      "name": "MLG_Homework1.ipynb",
      "provenance": [],
      "collapsed_sections": [
        "4TX-TgB4OEIy",
        "uTFIp_fUAqng",
        "02vrTR0t-s4J"
      ],
      "toc_visible": true
    },
    "kernelspec": {
      "name": "python3",
      "display_name": "Python 3"
    },
    "accelerator": "GPU"
  },
  "cells": [
    {
      "cell_type": "markdown",
      "metadata": {
        "id": "4TX-TgB4OEIy",
        "colab_type": "text"
      },
      "source": [
        "## Install torch-geometric and other required packages"
      ]
    },
    {
      "cell_type": "code",
      "metadata": {
        "id": "sl_NoT15ODAE",
        "colab_type": "code",
        "colab": {}
      },
      "source": [
        "!pip install torch-scatter==latest+cu101 torch-sparse==latest+cu101 -f https://s3.eu-central-1.amazonaws.com/pytorch-geometric.com/whl/torch-1.4.0.html\n",
        "!pip install torch-geometric"
      ],
      "execution_count": 0,
      "outputs": []
    },
    {
      "cell_type": "markdown",
      "metadata": {
        "id": "SOcyZuzx27_W",
        "colab_type": "text"
      },
      "source": [
        "## Package Initialization"
      ]
    },
    {
      "cell_type": "code",
      "metadata": {
        "id": "YAe4nKq48rJQ",
        "colab_type": "code",
        "colab": {}
      },
      "source": [
        "import numpy as np\n",
        "\n",
        "import math\n",
        "\n",
        "import torch\n",
        "import torch.nn as nn\n",
        "import torch.nn.functional as F\n",
        "import torch.optim as optim\n",
        "\n",
        "import networkx as nx\n",
        "\n",
        "import matplotlib\n",
        "import matplotlib.pyplot as plt\n",
        "\n",
        "from google.colab import files"
      ],
      "execution_count": 0,
      "outputs": []
    },
    {
      "cell_type": "markdown",
      "metadata": {
        "id": "uTFIp_fUAqng",
        "colab_type": "text"
      },
      "source": [
        "## Upload training data to Google Colab VM"
      ]
    },
    {
      "cell_type": "code",
      "metadata": {
        "id": "Hupb9Vzb9akV",
        "colab_type": "code",
        "outputId": "b21ae4e2-a342-4c0e-cef8-0a792532de73",
        "colab": {
          "resources": {
            "http://localhost:8080/nbextensions/google.colab/files.js": {
              "data": "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",
              "ok": true,
              "headers": [
                [
                  "content-type",
                  "application/javascript"
                ]
              ],
              "status": 200,
              "status_text": ""
            }
          },
          "base_uri": "https://localhost:8080/",
          "height": 178
        }
      },
      "source": [
        "# upload training and testing data\n",
        "uploaded = files.upload()"
      ],
      "execution_count": 0,
      "outputs": [
        {
          "output_type": "display_data",
          "data": {
            "text/html": [
              "\n",
              "     <input type=\"file\" id=\"files-917178b5-2ef8-4e44-8d35-410ee56a1eac\" name=\"files[]\" multiple disabled />\n",
              "     <output id=\"result-917178b5-2ef8-4e44-8d35-410ee56a1eac\">\n",
              "      Upload widget is only available when the cell has been executed in the\n",
              "      current browser session. Please rerun this cell to enable.\n",
              "      </output>\n",
              "      <script src=\"/nbextensions/google.colab/files.js\"></script> "
            ],
            "text/plain": [
              "<IPython.core.display.HTML object>"
            ]
          },
          "metadata": {
            "tags": []
          }
        },
        {
          "output_type": "stream",
          "text": [
            "Saving 0.txt to 0.txt\n",
            "Saving 0_score.txt to 0_score.txt\n",
            "Saving 1.txt to 1.txt\n",
            "Saving 1_score.txt to 1_score.txt\n"
          ],
          "name": "stdout"
        }
      ]
    },
    {
      "cell_type": "code",
      "metadata": {
        "id": "DVzG3JTOjONJ",
        "colab_type": "code",
        "outputId": "75c72aa7-ae72-4c6a-e8a4-e7488f9430dc",
        "colab": {
          "base_uri": "https://localhost:8080/",
          "height": 34
        }
      },
      "source": [
        "!ls"
      ],
      "execution_count": 0,
      "outputs": [
        {
          "output_type": "stream",
          "text": [
            "0_score.txt  0.txt  1_score.txt  1.txt\tsample_data\n"
          ],
          "name": "stdout"
        }
      ]
    },
    {
      "cell_type": "markdown",
      "metadata": {
        "id": "02vrTR0t-s4J",
        "colab_type": "text"
      },
      "source": [
        "## process training data and targets"
      ]
    },
    {
      "cell_type": "code",
      "metadata": {
        "id": "F2PxKBvPT7cq",
        "colab_type": "code",
        "colab": {}
      },
      "source": [
        "# function to get torch_geometric.data.Data object from sythnetic graph\n",
        "def get_synthetic_data(number = 0):\n",
        "\n",
        "    # read network file\n",
        "    edges = []\n",
        "    with open(str(number) + \".txt\", \"r\") as file:\n",
        "        lines = file.readlines();\n",
        "\n",
        "        for line in lines:\n",
        "            if len(line) == 0:\n",
        "                continue\n",
        "            edge = line.split(\"\\t\")\n",
        "            edge[0] = int(edge[0])\n",
        "            edge[1] = int(edge[1])\n",
        "            edges.append(edge)\n",
        "\n",
        "        edges= torch.tensor(np.array(edges), dtype=torch.long)\n",
        "\n",
        "    # read node score file\n",
        "    node_scores = []\n",
        "    with open(\"0_score.txt\", \"r\") as file:\n",
        "        lines = file.readlines();\n",
        "\n",
        "        for line in lines:\n",
        "            if len(line) == 0:\n",
        "                continue\n",
        "            sequences = line.split(\"\\t\")\n",
        "            node_scores.append(float(sequences[1]))\n",
        "\n",
        "        node_scores = torch.tensor(np.array(node_scores), dtype=torch.float)\n",
        "\n",
        "    return (edges, node_scores)"
      ],
      "execution_count": 0,
      "outputs": []
    },
    {
      "cell_type": "code",
      "metadata": {
        "id": "NcaNQoAcbTjg",
        "colab_type": "code",
        "colab": {}
      },
      "source": [
        "edges, node_scores = get_synthetic_data(0)"
      ],
      "execution_count": 0,
      "outputs": []
    },
    {
      "cell_type": "code",
      "metadata": {
        "id": "I45UEA0bbhhO",
        "colab_type": "code",
        "colab": {}
      },
      "source": [
        "print(edges)\n",
        "print(node_scores)"
      ],
      "execution_count": 0,
      "outputs": []
    },
    {
      "cell_type": "code",
      "metadata": {
        "id": "hMpaI_tz3qoF",
        "colab_type": "code",
        "colab": {}
      },
      "source": [
        "node_number = node_scores.size()[0]"
      ],
      "execution_count": 0,
      "outputs": []
    },
    {
      "cell_type": "markdown",
      "metadata": {
        "id": "kAkfM_pDVoxl",
        "colab_type": "text"
      },
      "source": [
        "## Define DrBC Network"
      ]
    },
    {
      "cell_type": "code",
      "metadata": {
        "id": "fp_UUjj3VsVa",
        "colab_type": "code",
        "colab": {}
      },
      "source": [
        "class DrBCNetwork(nn.Module):\n",
        "    def __init__(self, input_dimension = 3, embedding_dimension = 128):\n",
        "        super(DrBCNetwork, self).__init__()\n",
        "\n",
        "        self.input_dimension = input_dimension\n",
        "        self.embedding_dimension = embedding_dimension\n",
        "        self.linear1 = nn.Linear(self.input_dimension, self.embedding_dimension, bias=False)\n",
        "        self.gru_cell1 = nn.GRUCell(self.embedding_dimension, self.embedding_dimension, bias=False)\n",
        "        self.gru_cell2 = nn.GRUCell(self.embedding_dimension, self.embedding_dimension, bias=False)\n",
        "        self.linear2 = nn.Linear(self.embedding_dimension, int(self.embedding_dimension / 2), bias=False)\n",
        "        self.linear3 = nn.Linear(int(self.embedding_dimension / 2), 1, bias=False)\n",
        "\n",
        "        # aggregation weights look-up table\n",
        "        self.aggregation_weights = None\n",
        "        \n",
        "        # node neighborhood look-up table\n",
        "        self.neighborhood = None\n",
        "\n",
        "        # node degree list\n",
        "        self.degrees = None\n",
        "\n",
        "\n",
        "    # using another graph to train => recalculate self.aggregation and self.neighborhood\n",
        "    def set_graph(self, graph):\n",
        "\n",
        "        node_number = len(list(graph.nodes))\n",
        "\n",
        "        # get degrees and neighborhood lookup\n",
        "        self.neighborhood = torch.zeros([node_number, node_number], dtype=torch.bool)\n",
        "        self.degrees = torch.zeros([node_number])\n",
        "\n",
        "        for edge in graph.edges:\n",
        "            source, target = edge\n",
        "            self.neighborhood[source, target] = self.neighborhood[target, source] = 1\n",
        "            self.degrees[source] += 1\n",
        "            self.degrees[target] += 1\n",
        "\n",
        "        # compute aggregation weights\n",
        "        self.aggregation_weights = torch.zeros([node_number, node_number], dtype=torch.float32)\n",
        "\n",
        "        sqrt_degrees = self.degrees.sqrt()\n",
        "        for i in range(node_number):\n",
        "            # if i % 100 == 0:\n",
        "            #    print(\"calculating aggregation weights: {}/{}\".format(i, node_number))\n",
        "            for j in range(i):\n",
        "                self.aggregation_weights[i, j] = 1 / (sqrt_degrees[i].item()*sqrt_degrees[j].item() + 1e-7)\n",
        "\n",
        "        # make it diagonal symmetry matrix\n",
        "        self.aggregation_weights = self.aggregation_weights.T + self.aggregation_weights\n",
        "        sqrt_degrees = None\n",
        "    \n",
        "    def forward(self, x):\n",
        "\n",
        "        # Encoding\n",
        "        # ============================================================================================\n",
        "\n",
        "        # x's shape: [node_number, 3] --> use all node without batching\n",
        "\n",
        "        h0 = x\n",
        "        h1 = F.normalize(F.relu(self.linear1(h0))) # h1: [node_number, embedding_dimension]\n",
        "\n",
        "        # neighborhood aggregation: layer 2\n",
        "        h2n =  torch.mm(self.neighborhood * self.aggregation_weights, h1) # h2n: [node_number, embedding_dimension]\n",
        "        \n",
        "        # combination: layer 2\n",
        "        h2 = self.gru_cell1(h2n, h1) # h2: [node_number, embedding_dimenstion]\n",
        "\n",
        "        # normalize the embedding vector\n",
        "        h2 = F.normalize(h2)\n",
        "\n",
        "        # neighborhood aggregation: layer 3\n",
        "        h3n = torch.mm(self.neighborhood * self.aggregation_weights, h2) # h3n: [node_number, embedding_dimension]\n",
        "        \n",
        "        # combination: layer 3\n",
        "        h3 = self.gru_cell2(h3n, h2) # h3: [node_number, embedding_dimenstion]\n",
        "\n",
        "        # normalize the embedding vector\n",
        "        h3 = F.normalize(h3)\n",
        "\n",
        "        # layer aggregation: element-wise max pooling\n",
        "        z = torch.max(torch.max(h1, h2), h3)\n",
        "\n",
        "        # Decoding\n",
        "        # ===========================================================================================\n",
        "\n",
        "        # 1-st fully-connected\n",
        "        z = self.linear2(z)\n",
        "        z = F.relu(z)\n",
        "\n",
        "        z = self.linear3(z)\n",
        "\n",
        "        return z\n",
        "\n",
        "    # return degree list of current used graph, size: [node_number]\n",
        "    def get_graph_degrees(self):\n",
        "        return self.degrees"
      ],
      "execution_count": 0,
      "outputs": []
    },
    {
      "cell_type": "markdown",
      "metadata": {
        "id": "JTa5MwgnqyAA",
        "colab_type": "text"
      },
      "source": [
        "### Functions for Saving & Loading Model"
      ]
    },
    {
      "cell_type": "code",
      "metadata": {
        "id": "w90UcNm3q5Th",
        "colab_type": "code",
        "colab": {}
      },
      "source": [
        "def save_model(model, path='./drbc.pkl'):\n",
        "    torch.save(model.state_dict(), path)\n",
        "\n",
        "def load_model(model, path='./drbc.pkl'):\n",
        "    model.load_state_dict(torch.load(path))\n",
        "    model.eval()"
      ],
      "execution_count": 0,
      "outputs": []
    },
    {
      "cell_type": "markdown",
      "metadata": {
        "id": "G73tNHtoph1T",
        "colab_type": "text"
      },
      "source": [
        "## Define Evaluation Functions"
      ]
    },
    {
      "cell_type": "code",
      "metadata": {
        "id": "VE4zX7VTnr8k",
        "colab_type": "code",
        "colab": {}
      },
      "source": [
        "class PairwiseRankingLoss(nn.Module):\n",
        "    def __init__(self, sample_number):\n",
        "        super(PairwiseRankingLoss, self).__init__()\n",
        "        self.sample_number = sample_number\n",
        "        \n",
        "    def forward(self, outputs, targets):\n",
        "\n",
        "        errors = torch.zeros([self.sample_number])\n",
        "\n",
        "        # draw samples from prediction outputs and targets\n",
        "        for i in range(self.sample_number):\n",
        "            perm = torch.randperm(outputs.size(0))\n",
        "            index = perm[:2]\n",
        "            y_diff = outputs[index][0].item() - outputs[index][1].item()\n",
        "            b_diff = targets[index][0].item() - targets[index][1].item()\n",
        "\n",
        "            errors[i] = (-1) * self.sigmoid(b_diff) * math.log( self.sigmoid(y_diff) ) - (1 - self.sigmoid(b_diff)) * math.log(1 - self.sigmoid(y_diff))\n",
        "\n",
        "        return torch.sum(errors)\n",
        "\n",
        "    def sigmoid(self, x):\n",
        "        return (1 / (1 + math.exp( -1 * x )))"
      ],
      "execution_count": 0,
      "outputs": []
    },
    {
      "cell_type": "code",
      "metadata": {
        "id": "BTA3ImSho9_y",
        "colab_type": "code",
        "colab": {}
      },
      "source": [
        "def SoftmaxLoss(outputs, targets):\n",
        "    # softmax\n",
        "    return torch.sum(torch.abs(F.softmax(outputs, dim=0) - F.softmax(targets, dim=0)))"
      ],
      "execution_count": 0,
      "outputs": []
    },
    {
      "cell_type": "code",
      "metadata": {
        "id": "-m-Od4Fqj4ke",
        "colab_type": "code",
        "colab": {}
      },
      "source": [
        "def TopNAccuracy(outputs, targets):\n",
        "    sorted_output_indexs = torch.argsort(outputs, dim=0, descending=True)\n",
        "    sorted_target_indexs = torch.argsort(targets, dim=0, descending=True)\n",
        "\n",
        "    node_number = outputs.size(0)\n",
        "\n",
        "    # top-10%\n",
        "    candidate_number = int(node_number * (10 / 100))\n",
        "    hits = 0\n",
        "    for out in sorted_output_indexs[:candidate_number]:\n",
        "        if out in sorted_target_indexs[:candidate_number]:\n",
        "            hits += 1\n",
        "    acc_10 = hits/candidate_number\n",
        "\n",
        "    # top-5%\n",
        "    candidate_number = int(node_number * (5 / 100))\n",
        "    hits = 0\n",
        "    for out in sorted_output_indexs[:candidate_number]:\n",
        "        if out in sorted_target_indexs[:candidate_number]:\n",
        "            hits += 1\n",
        "    acc_5 = hits/candidate_number\n",
        "\n",
        "    # top-1%\n",
        "    candidate_number = int(node_number * (1 / 100))\n",
        "    hits = 0\n",
        "    for out in sorted_output_indexs[:candidate_number]:\n",
        "        if out in sorted_target_indexs[:candidate_number]:\n",
        "            hits += 1\n",
        "    acc_1 = hits/candidate_number\n",
        "\n",
        "    return (acc_1, acc_5, acc_10)"
      ],
      "execution_count": 0,
      "outputs": []
    },
    {
      "cell_type": "markdown",
      "metadata": {
        "id": "8PfaJI6tmdEZ",
        "colab_type": "text"
      },
      "source": [
        "## Build Training Procedure"
      ]
    },
    {
      "cell_type": "code",
      "metadata": {
        "id": "ZHRaNpNCsZ2V",
        "colab_type": "code",
        "colab": {}
      },
      "source": [
        "# constants\n",
        "TRAINING_GRAPHS = 10\n",
        "GRAPH_NODES = 1000\n",
        "LEARNING_RATE = 0.0001\n",
        "EPOCHS = 2\n",
        "VALIDATION_GRAPHS = 1\n",
        "\n",
        "INPUT_DIMENSION = 3\n",
        "EMBEDDING_DIMENSION = 128\n",
        "\n",
        "MODEL_PATH = './drbc.pkl'"
      ],
      "execution_count": 0,
      "outputs": []
    },
    {
      "cell_type": "code",
      "metadata": {
        "id": "xZZPY4CRslD-",
        "colab_type": "code",
        "colab": {}
      },
      "source": [
        "# create model entity\n",
        "drbc = DrBCNetwork(input_dimension=INPUT_DIMENSION, embedding_dimension=EMBEDDING_DIMENSION)\n",
        "\n",
        "# create optimizer (Adam used)\n",
        "optimizer = optim.Adam(drbc.parameters(), lr=LEARNING_RATE)"
      ],
      "execution_count": 0,
      "outputs": []
    },
    {
      "cell_type": "code",
      "metadata": {
        "id": "mAfZi2IevAIk",
        "colab_type": "code",
        "colab": {}
      },
      "source": [
        "# [Optional] !\n",
        "load_model(drbc, path = MODEL_PATH)"
      ],
      "execution_count": 0,
      "outputs": []
    },
    {
      "cell_type": "code",
      "metadata": {
        "id": "-WK0sN_IsndQ",
        "colab_type": "code",
        "colab": {
          "base_uri": "https://localhost:8080/",
          "height": 34
        },
        "outputId": "eb1c61cf-60dd-4c34-9c9e-dcaaf3e4d3f6"
      },
      "source": [
        "# create set of graphs for validation\n",
        "print(\"Preparing validation graphs ...\")\n",
        "validation_graphs = [nx.powerlaw_cluster_graph(n=GRAPH_NODES, m=4, p=0.05) for i in range(VALIDATION_GRAPHS)]\n",
        "validation_scores = []\n",
        "for g in validation_graphs:\n",
        "    validation_scores.append(torch.Tensor(list(nx.betweenness_centrality(g).values())).unsqueeze(1))\n",
        "\n",
        "# record the training/validation loss, top-N% accuracy\n",
        "training_loss_history = torch.zeros([TRAINING_GRAPHS * EPOCHS])\n",
        "\n",
        "training_top1acc_history = torch.zeros([TRAINING_GRAPHS * EPOCHS])\n",
        "training_top5acc_history = torch.zeros([TRAINING_GRAPHS * EPOCHS])\n",
        "training_top10acc_history = torch.zeros([TRAINING_GRAPHS * EPOCHS])\n",
        "\n",
        "validation_loss_history = torch.zeros([TRAINING_GRAPHS])\n",
        "\n",
        "validation_top1acc_history = torch.zeros([TRAINING_GRAPHS])\n",
        "validation_top5acc_history = torch.zeros([TRAINING_GRAPHS])\n",
        "validation_top10acc_history = torch.zeros([TRAINING_GRAPHS])"
      ],
      "execution_count": 20,
      "outputs": [
        {
          "output_type": "stream",
          "text": [
            "Preparing validation graphs ...\n"
          ],
          "name": "stdout"
        }
      ]
    },
    {
      "cell_type": "code",
      "metadata": {
        "id": "2xiwNC0cmjLn",
        "colab_type": "code",
        "outputId": "5295b735-83c9-4c49-d9bc-f6983166745f",
        "colab": {
          "base_uri": "https://localhost:8080/",
          "height": 357
        }
      },
      "source": [
        "# training\n",
        "\n",
        "for i in range(TRAINING_GRAPHS):\n",
        "\n",
        "    print(\"=== Training on Graph {} ===\".format(i))\n",
        "    \n",
        "    # generate graph G\n",
        "    graph = nx.powerlaw_cluster_graph(n=GRAPH_NODES, m=4, p=0.05)\n",
        "    \n",
        "    # get betweeness centrality of graph's nodes, format it into scores\n",
        "    node_scores = torch.Tensor(list(nx.betweenness_centrality(graph).values())).unsqueeze(1) # torch.Size([GRAPH_NODES, 1])\n",
        "\n",
        "    # recalculate aggregation weights, neighborhood lookup and node degrees\n",
        "    drbc.set_graph(graph)\n",
        "\n",
        "    # prepare input data x\n",
        "    degrees = drbc.get_graph_degrees()\n",
        "    x = torch.ones([GRAPH_NODES, 3])\n",
        "    for j in range(GRAPH_NODES):\n",
        "        x[j][0] = degrees[j]\n",
        "\n",
        "    # training\n",
        "    for j in range(EPOCHS):\n",
        "        optimizer.zero_grad()   # zero the gradient buffers\n",
        "        z = drbc(x)\n",
        "\n",
        "        loss = SoftmaxLoss(z, node_scores)\n",
        "        # print(\"Epoch {}'s loss: {}\".format(j, loss))\n",
        "        training_loss_history[i*EPOCHS + j] = loss\n",
        "\n",
        "        # top-10% accuracy\n",
        "        accuracy_1, accuracy_5, accuracy_10 = TopNAccuracy(z, node_scores)\n",
        "        # print(\"Epoch {}'s top-10% accuracy: {:.2f}%, top-5% accuracy: {:.2f}%, top-1% accuracy: {:.2f}%\".format(j, accuracy_10*100, accuracy_5*100, accuracy_1*100))\n",
        "        training_top1acc_history[i*EPOCHS + j] = accuracy_1*100\n",
        "        training_top5acc_history[i*EPOCHS + j] = accuracy_5*100\n",
        "        training_top10acc_history[i*EPOCHS + j] = accuracy_10*100\n",
        "\n",
        "        loss.backward()\n",
        "        optimizer.step()\n",
        "\n",
        "        save_model(drbc, path=MODEL_PATH)\n",
        "\n",
        "        # do validation at the last epochs\n",
        "        if (j == (EPOCHS-1)):\n",
        "            val_losses = torch.zeros([VALIDATION_GRAPHS])\n",
        "            val_acc1s = torch.zeros([VALIDATION_GRAPHS])\n",
        "            val_acc5s = torch.zeros([VALIDATION_GRAPHS])\n",
        "            val_acc10s = torch.zeros([VALIDATION_GRAPHS])\n",
        "            for k in range(VALIDATION_GRAPHS):\n",
        "                drbc.set_graph(validation_graphs[k])\n",
        "\n",
        "                # set model using validation graph\n",
        "                deg = drbc.get_graph_degrees()\n",
        "\n",
        "                # prepare input x for validation\n",
        "                val_x = torch.ones([GRAPH_NODES, 3])\n",
        "                for m in range(GRAPH_NODES):\n",
        "                    val_x[m][0] = deg[m]\n",
        "\n",
        "                val_z = drbc(val_x)\n",
        "                val_losses[k] = SoftmaxLoss(val_z, validation_scores[k])\n",
        "                accuracy_1, accuracy_5, accuracy_10 = TopNAccuracy(val_z, validation_scores[k])\n",
        "                val_acc1s[k] = accuracy_1*100\n",
        "                val_acc5s[k] = accuracy_5*100\n",
        "                val_acc10s[k] = accuracy_10*100\n",
        "\n",
        "            validation_loss_history[i] = torch.mean(val_losses)\n",
        "            validation_top1acc_history[i] = torch.mean(val_acc1s)\n",
        "            validation_top5acc_history[i] = torch.mean(val_acc5s)\n",
        "            validation_top10acc_history[i] = torch.mean(val_acc10s)"
      ],
      "execution_count": 21,
      "outputs": [
        {
          "output_type": "stream",
          "text": [
            "=== Training on Graph 0 ===\n",
            "=== Training on Graph 1 ===\n",
            "=== Training on Graph 2 ===\n",
            "=== Training on Graph 3 ===\n",
            "=== Training on Graph 4 ===\n",
            "=== Training on Graph 5 ===\n",
            "=== Training on Graph 6 ===\n",
            "=== Training on Graph 7 ===\n",
            "=== Training on Graph 8 ===\n",
            "=== Training on Graph 9 ===\n",
            "=== Training on Graph 10 ===\n",
            "=== Training on Graph 11 ===\n",
            "=== Training on Graph 12 ===\n",
            "=== Training on Graph 13 ===\n",
            "=== Training on Graph 14 ===\n",
            "=== Training on Graph 15 ===\n",
            "=== Training on Graph 16 ===\n",
            "=== Training on Graph 17 ===\n",
            "=== Training on Graph 18 ===\n",
            "=== Training on Graph 19 ===\n"
          ],
          "name": "stdout"
        }
      ]
    },
    {
      "cell_type": "code",
      "metadata": {
        "id": "Y3mXDeFzqFOW",
        "colab_type": "code",
        "outputId": "bc56286c-1da8-4265-d57d-6e1b0ce34e4c",
        "colab": {
          "base_uri": "https://localhost:8080/",
          "height": 404
        }
      },
      "source": [
        "# plot the loss\n",
        "plt.figure(figsize=(8, 6))\n",
        "plt.plot(np.arange(1, TRAINING_GRAPHS*EPOCHS+1, 1), training_loss_history.detach().numpy(), label='Training Loss')\n",
        "plt.plot(np.arange(EPOCHS, TRAINING_GRAPHS*EPOCHS+1, EPOCHS), validation_loss_history.detach().numpy(), label='Validation Loss')\n",
        "plt.legend()\n",
        "plt.xlabel(\"Epochs\")\n",
        "plt.ylabel(\"Loss\")\n",
        "plt.title(\"Training history of Loss\")\n",
        "plt.show()"
      ],
      "execution_count": 22,
      "outputs": [
        {
          "output_type": "display_data",
          "data": {
            "image/png": "[encoded data removed]",
            "text/plain": [
              "<Figure size 576x432 with 1 Axes>"
            ]
          },
          "metadata": {
            "tags": []
          }
        }
      ]
    },
    {
      "cell_type": "code",
      "metadata": {
        "id": "0xwZQHdC1NV6",
        "colab_type": "code",
        "outputId": "295b4987-8f23-4555-c3d7-dd324ae29cf2",
        "colab": {
          "base_uri": "https://localhost:8080/",
          "height": 513
        }
      },
      "source": [
        "# plot the accuracy\n",
        "\n",
        "fig, axs = plt.subplots(1, 3, figsize=(24, 8))\n",
        "\n",
        "axs[0].plot(np.arange(1, TRAINING_GRAPHS*EPOCHS+1, 1), training_top10acc_history.numpy(), label='Traing')\n",
        "axs[0].plot(np.arange(EPOCHS, TRAINING_GRAPHS*EPOCHS+1, EPOCHS), validation_top10acc_history.numpy(), label='Validation')\n",
        "axs[0].legend()\n",
        "axs[0].set_title('Top-10% Accuracy')\n",
        "axs[0].set_ylim([0, 100])\n",
        "\n",
        "axs[1].plot(np.arange(1, TRAINING_GRAPHS*EPOCHS+1, 1), training_top5acc_history.numpy(), label='Traing')\n",
        "axs[1].plot(np.arange(EPOCHS, TRAINING_GRAPHS*EPOCHS+1, EPOCHS), validation_top5acc_history.numpy(), label='Validation')\n",
        "axs[1].legend()\n",
        "axs[1].set_title('Top-5% Accuracy')\n",
        "axs[1].set_ylim([0, 100])\n",
        "\n",
        "axs[2].plot(np.arange(1, TRAINING_GRAPHS*EPOCHS+1, 1), training_top1acc_history.numpy(), label='Traing')\n",
        "axs[2].plot(np.arange(EPOCHS, TRAINING_GRAPHS*EPOCHS+1, EPOCHS), validation_top1acc_history.numpy(), label='Validation')\n",
        "axs[2].legend()\n",
        "axs[2].set_title('Top-1% Accuracy')\n",
        "axs[2].set_ylim([0, 100])\n",
        "\n",
        "for ax in axs.flat:\n",
        "    ax.set(xlabel='epochs', ylabel='accuracy')\n",
        "    ax.label_outer()\n"
      ],
      "execution_count": 23,
      "outputs": [
        {
          "output_type": "display_data",
          "data": {
            "image/png": "[encoded data removed]",
            "text/plain": [
              "<Figure size 1728x576 with 3 Axes>"
            ]
          },
          "metadata": {
            "tags": []
          }
        }
      ]
    },
    {
      "cell_type": "markdown",
      "metadata": {
        "id": "5Bvnf-T5SP4B",
        "colab_type": "text"
      },
      "source": [
        "## TODO\n",
        "* [x] let model to fit on differet graph (re-calculate neighborhood lookup and aggregation lookup)\n",
        "* [x] generate a synthetic graphic and use it in training\n",
        "* [x] calculate validation error\n",
        "* [x] calculate top-x% accuracy\n",
        "* [x] save and re-load model\n",
        "* [ ] calculate error on test-synthetic and test-youtube dataset\n",
        "* [ ] recording running time\n",
        "* [ ] calculate Kendall tau distance\n",
        "* [ ] compared to other methods"
      ]
    },
    {
      "cell_type": "markdown",
      "metadata": {
        "id": "z2E7ZAFw_mCM",
        "colab_type": "text"
      },
      "source": [
        "## Discussion\n",
        "* How to handle if graph is highly dynamic (nodes' degrees change frequently)\n",
        "* Epoch per graph and graph number for traing will lead to different ability of generalization\n",
        "* Way to calculate validation\n",
        "* How to implemenation early-stop?\n",
        "* Can we use small syntheic graph to train, and predict large graph well?"
      ]
    }
  ]
}