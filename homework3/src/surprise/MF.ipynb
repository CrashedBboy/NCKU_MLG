{
 "cells": [
  {
   "cell_type": "markdown",
   "metadata": {},
   "source": [
    "# Matrix Factorization"
   ]
  },
  {
   "cell_type": "markdown",
   "metadata": {},
   "source": [
    "## 1. Set-up\n",
    "import dependent packages and declare consts"
   ]
  },
  {
   "cell_type": "code",
   "execution_count": 1,
   "metadata": {},
   "outputs": [],
   "source": [
    "# package initialization\n",
    "\n",
    "import pandas as pd\n",
    "import numpy as np\n",
    "from surprise import SVD\n",
    "from surprise import Dataset\n",
    "from surprise import Reader\n",
    "from sklearn import metrics"
   ]
  },
  {
   "cell_type": "code",
   "execution_count": 23,
   "metadata": {},
   "outputs": [],
   "source": [
    "# consts\n",
    "\n",
    "# DATASET = '../../data/extracted/LON-A/London_Attractions_Complete_Review.csv'\n",
    "DATASET = '../../data/extracted/NYC-R/New_York_City_Restaurant_Complete_Review.csv'\n",
    "OCCURENCE_THRESHOLD = 5"
   ]
  },
  {
   "cell_type": "markdown",
   "metadata": {},
   "source": [
    "## 2. Read Dataset\n",
    "read dataset in csv format into pandas.DataFrame"
   ]
  },
  {
   "cell_type": "code",
   "execution_count": 24,
   "metadata": {},
   "outputs": [],
   "source": [
    "# read dataset\n",
    "\n",
    "df = pd.read_csv(DATASET, sep='\\t')"
   ]
  },
  {
   "cell_type": "code",
   "execution_count": 25,
   "metadata": {},
   "outputs": [
    {
     "name": "stdout",
     "output_type": "stream",
     "text": [
      "Columns: \n",
      " ['Unnamed: 0', 'Unnamed: 0.1', 'rtime', 'rquote', 'iid', 'rrate', 'rid', 'uage', 'ucity', 'ucountry', 'ugender', 'uhometown', 'uid_index', 'ulevel', 'uname_y', 'usince', 'ustate', 'ustyle', 'iattribute', 'ilocality', 'iname', 'ipopularity', 'ipost', 'iprice', 'irating', 'iregion', 'istreet', 'itag']\n",
      "\n",
      "Shape: \n",
      " (129964, 28)\n"
     ]
    }
   ],
   "source": [
    "# print dataset information\n",
    "\n",
    "print(\"Columns: \\n\", list(df.columns))\n",
    "print(\"\\nShape: \\n\", df.shape)"
   ]
  },
  {
   "cell_type": "markdown",
   "metadata": {},
   "source": [
    "## 3. Data Preprocessing\n",
    "\n",
    "* Retain users/items with at least five ratings only\n",
    "* Data splitting\n",
    "  - the latest 20% interactions (by time)\n",
    "  - Randomly split the remaining data into training (70%) and validation (10%) sets\n",
    "* Transform the ratings into binary implicit feedback as ground truth, indicating whether the user has interacted with the specific item"
   ]
  },
  {
   "cell_type": "code",
   "execution_count": 5,
   "metadata": {},
   "outputs": [],
   "source": [
    "def sort_by_time(df):\n",
    "    \n",
    "    # here we use 'rid' for sorting becaz it's auto incrementing\n",
    "    return df.sort_values(by=['rid'], ascending=True)"
   ]
  },
  {
   "cell_type": "code",
   "execution_count": 6,
   "metadata": {},
   "outputs": [],
   "source": [
    "def filter_by_occurrence(df, column, threshold):\n",
    "    return df.groupby(column).filter(lambda x: len(x) >= threshold)"
   ]
  },
  {
   "cell_type": "code",
   "execution_count": 7,
   "metadata": {},
   "outputs": [],
   "source": [
    "def convert_binary(df):\n",
    "    df.loc[df['rrate'] != \"None\", 'rrate'] = 1.0\n",
    "    df.loc[df['rrate'] == \"None\", 'rrate'] = 0.0\n",
    "    return df"
   ]
  },
  {
   "cell_type": "code",
   "execution_count": 8,
   "metadata": {},
   "outputs": [],
   "source": [
    "def data_preprocess(dataframe):\n",
    "    \n",
    "    # sort by time (ascending order)\n",
    "    df = sort_by_time(dataframe)\n",
    "    \n",
    "    # retrieve needed columns\n",
    "    df = df[['uid_index', 'iid', 'rrate']]\n",
    "    \n",
    "    # convert ratings into binarys\n",
    "    df = convert_binary(df)\n",
    "    \n",
    "    df['rrate'] = pd.to_numeric(df['rrate'])\n",
    "    \n",
    "    # Retain users/items with at least five ratings only\n",
    "    df = filter_by_occurrence(df, 'iid', OCCURENCE_THRESHOLD)\n",
    "    df = filter_by_occurrence(df, 'uid_index', OCCURENCE_THRESHOLD)\n",
    "    \n",
    "    # split dataset into training set, validation set and test set\n",
    "    users = df.groupby('uid_index')\n",
    "    \n",
    "    test_df = pd.DataFrame()\n",
    "    train_validation_df = pd.DataFrame()\n",
    "    \n",
    "    # for each user, get its latest 20% rating as test set\n",
    "    for uid in users.size().to_dict().keys():\n",
    "        user = users.get_group(uid)\n",
    "        split_idx = int(len(user)*0.8)\n",
    "        test_df = test_df.append(user.iloc[split_idx:])\n",
    "        train_validation_df = train_validation_df.append(user.iloc[:split_idx])\n",
    "    \n",
    "    train_validation_df = train_validation_df.reindex(np.random.permutation(train_validation_df.index)) # shuffle\n",
    "    train_df = train_validation_df.iloc[:int(len(train_validation_df)*0.875)]\n",
    "    validation_df = train_validation_df.iloc[int(len(train_validation_df)*0.875):]\n",
    "    \n",
    "    return (train_df, validation_df, test_df)"
   ]
  },
  {
   "cell_type": "code",
   "execution_count": 26,
   "metadata": {
    "scrolled": true
   },
   "outputs": [
    {
     "name": "stdout",
     "output_type": "stream",
     "text": [
      "training set size:  (80722, 3)\n",
      "validation set size:  (11532, 3)\n",
      "test set size:  (29517, 3)\n"
     ]
    }
   ],
   "source": [
    "# dataset preprocessing\n",
    "\n",
    "train_df, validation_df, test_df = data_preprocess(df)\n",
    "print(\"training set size: \", train_df.shape)\n",
    "print(\"validation set size: \", validation_df.shape)\n",
    "print(\"test set size: \", test_df.shape)"
   ]
  },
  {
   "cell_type": "markdown",
   "metadata": {},
   "source": [
    "## 4. Load into Surprise"
   ]
  },
  {
   "cell_type": "code",
   "execution_count": 27,
   "metadata": {},
   "outputs": [],
   "source": [
    "reader = Reader(rating_scale=(0, 1))\n",
    "train_dataset = Dataset.load_from_df(train_df, reader).build_full_trainset()"
   ]
  },
  {
   "cell_type": "markdown",
   "metadata": {},
   "source": [
    "## 5. Model declaration & Fitting\n",
    "\n",
    "The prediction $\\hat{r}_{ui}$ is set as:  \n",
    "\n",
    "\\begin{equation}\n",
    "\\hat{r}_{ui} = \\mu + b_u + b_i + q_i^Tp_u\n",
    "\\end{equation}\n",
    "\n",
    "$b_u$ is bias of user $u$, $b_i$ is bias for item $i$  \n",
    "$q$ and $p$ are latent vector of item and user respectively.  \n",
    "\n",
    "The optimization objective is:  \n",
    "\n",
    "\\begin{equation}\n",
    "\\sum_{r_{ui} \\in R_{train}} \\left(r_{ui} - \\hat{r}_{ui} \\right)^2 +\n",
    "\\lambda\\left(b_i^2 + b_u^2 + ||q_i||^2 + ||p_u||^2\\right)\n",
    "\\end{equation}"
   ]
  },
  {
   "cell_type": "markdown",
   "metadata": {},
   "source": [
    "`note` what parameters we're going to train?  \n",
    "- bias for item\n",
    "- bias for user\n",
    "- elements of user's latent vector\n",
    "- elements of item's latent vector"
   ]
  },
  {
   "cell_type": "markdown",
   "metadata": {},
   "source": [
    "please check [Surprise | Matrix Factorization](https://surprise.readthedocs.io/en/stable/matrix_factorization.html) for more detail about parameter tuning"
   ]
  },
  {
   "cell_type": "code",
   "execution_count": 11,
   "metadata": {},
   "outputs": [],
   "source": [
    "# parameters for matrix factorization\n",
    "# here we adpot those defaults of library Surprise\n",
    "\n",
    "LATENT_SIZE = 100 # latent vector's dimension, defaults to 100\n",
    "EPOCH = 20 # training iteration, defaults to 20\n",
    "BIASED = True # whether to add bias into user/item's latent vector, defaults to True\n",
    "INIT_MEAN = 0 # mean of the normal distribution for factor vectors initialization, defaults to 0\n",
    "INIT_STDDEV = 0.1 # standard deviation of the normal distribution for factor vectors initialization, defaults to 0.1\n",
    "LR_ALL = 0.005 # learning rate for all parameters, defaults to 0.005\n",
    "REG_ALL = 0.02 # regularization term for all parameters, defaults to 0.02"
   ]
  },
  {
   "cell_type": "code",
   "execution_count": 12,
   "metadata": {},
   "outputs": [],
   "source": [
    "algorithm = SVD(\n",
    "    n_factors = LATENT_SIZE,\n",
    "    n_epochs = EPOCH,\n",
    "    biased = BIASED,\n",
    "    init_mean = INIT_MEAN,\n",
    "    init_std_dev = INIT_STDDEV,\n",
    "    lr_all = LR_ALL,\n",
    "    reg_all = REG_ALL\n",
    ")"
   ]
  },
  {
   "cell_type": "code",
   "execution_count": 13,
   "metadata": {
    "scrolled": true
   },
   "outputs": [
    {
     "data": {
      "text/plain": [
       "<surprise.prediction_algorithms.matrix_factorization.SVD at 0x290291dbfc8>"
      ]
     },
     "execution_count": 13,
     "metadata": {},
     "output_type": "execute_result"
    }
   ],
   "source": [
    "algorithm.fit(train_dataset)"
   ]
  },
  {
   "cell_type": "markdown",
   "metadata": {},
   "source": [
    "## 6. Prediction"
   ]
  },
  {
   "cell_type": "code",
   "execution_count": 11,
   "metadata": {},
   "outputs": [],
   "source": [
    "def predict(algorithm, dataframe):\n",
    "    z = []\n",
    "    y = []\n",
    "    for i in range(len(dataframe)):\n",
    "        user = dataframe.iloc[i][0]\n",
    "        item = dataframe.iloc[i][1]\n",
    "        rating = dataframe.iloc[i][2]\n",
    "        prediction = algorithm.predict(user, item, r_ui=rating, verbose=False)\n",
    "        \n",
    "        if prediction.details['was_impossible'] == False:\n",
    "            z.append(prediction.est)\n",
    "            y.append(rating)\n",
    "    return (np.array(z, dtype=np.float32), np.array(y, dtype=np.int))"
   ]
  },
  {
   "cell_type": "code",
   "execution_count": 15,
   "metadata": {},
   "outputs": [],
   "source": [
    "validation_z, validation_y = predict(algorithm, validation_df)"
   ]
  },
  {
   "cell_type": "code",
   "execution_count": 16,
   "metadata": {},
   "outputs": [],
   "source": [
    "test_z, test_y = predict(algorithm, test_df)"
   ]
  },
  {
   "cell_type": "markdown",
   "metadata": {},
   "source": [
    "## 7. Evaluation"
   ]
  },
  {
   "cell_type": "markdown",
   "metadata": {},
   "source": [
    "AUC metric"
   ]
  },
  {
   "cell_type": "code",
   "execution_count": 12,
   "metadata": {},
   "outputs": [],
   "source": [
    "def evaluate_auc(z, y):\n",
    "    return metrics.roc_auc_score(y, z)"
   ]
  },
  {
   "cell_type": "code",
   "execution_count": 18,
   "metadata": {},
   "outputs": [
    {
     "name": "stdout",
     "output_type": "stream",
     "text": [
      "validation AUC:  0.99830901379943\n",
      "test AUC:  0.9967822284449699\n"
     ]
    }
   ],
   "source": [
    "print(\"validation AUC: \", evaluate_auc(validation_z, validation_y))\n",
    "print(\"test AUC: \", evaluate_auc(test_z, test_y))"
   ]
  },
  {
   "cell_type": "markdown",
   "metadata": {},
   "source": [
    "LogLoss metric"
   ]
  },
  {
   "cell_type": "code",
   "execution_count": 13,
   "metadata": {},
   "outputs": [],
   "source": [
    "# assume parameters z & y are ndarray\n",
    "def evaluate_logloss(z, y):\n",
    "    zz = np.ones((z.shape[0], 2))\n",
    "    zz[:, 0] -= z\n",
    "    zz[:, 1] = z\n",
    "    return metrics.log_loss(y, zz)"
   ]
  },
  {
   "cell_type": "code",
   "execution_count": 20,
   "metadata": {},
   "outputs": [
    {
     "name": "stdout",
     "output_type": "stream",
     "text": [
      "validation LogLoss:  0.05650602974289275\n",
      "test LogLoss:  0.07532174375929619\n"
     ]
    }
   ],
   "source": [
    "print(\"validation LogLoss: \", evaluate_logloss(validation_z, validation_y))\n",
    "print(\"test LogLoss: \", evaluate_logloss(test_z, test_y))"
   ]
  },
  {
   "cell_type": "markdown",
   "metadata": {},
   "source": [
    "NDCG metric"
   ]
  },
  {
   "cell_type": "code",
   "execution_count": 14,
   "metadata": {},
   "outputs": [],
   "source": [
    "# assume parameters z & y are ndarray\n",
    "def evaluate_ndcg(z, y):\n",
    "    return metrics.ndcg_score(np.expand_dims(y, axis=0), np.expand_dims(z, axis=0), k=5)"
   ]
  },
  {
   "cell_type": "code",
   "execution_count": 22,
   "metadata": {},
   "outputs": [
    {
     "name": "stdout",
     "output_type": "stream",
     "text": [
      "validation NDCG@5:  0.9999999999999999\n",
      "test NDCG@5:  0.999892101855848\n"
     ]
    }
   ],
   "source": [
    "print(\"validation NDCG@5: \", evaluate_ndcg(validation_z, validation_y))\n",
    "print(\"test NDCG@5: \", evaluate_ndcg(test_z, test_y))"
   ]
  },
  {
   "cell_type": "markdown",
   "metadata": {},
   "source": [
    "## Experiments"
   ]
  },
  {
   "cell_type": "code",
   "execution_count": 15,
   "metadata": {},
   "outputs": [],
   "source": [
    "LATENT_SIZE = 100 # latent vector's dimension, defaults to 100\n",
    "EPOCH = 20 # training iteration, defaults to 20\n",
    "BIASED = True # whether to add bias into user/item's latent vector, defaults to True\n",
    "INIT_MEAN = 0 # mean of the normal distribution for factor vectors initialization, defaults to 0\n",
    "INIT_STDDEV = 0.1 # standard deviation of the normal distribution for factor vectors initialization, defaults to 0.1\n",
    "LR_ALL = 0.005 # learning rate for all parameters, defaults to 0.005\n",
    "REG_ALL = 0.02 # regularization term for all parameters, defaults to 0.02"
   ]
  },
  {
   "cell_type": "code",
   "execution_count": 18,
   "metadata": {},
   "outputs": [],
   "source": [
    "def train_latents(epoch=20, start=20, end=200, step=20):\n",
    "\n",
    "    history = []\n",
    "    for latent_size in range(start, end+step, step):\n",
    "        \n",
    "        print(\"Using Latent size: \", latent_size)\n",
    "        algorithm = SVD(\n",
    "            n_factors = latent_size,\n",
    "            n_epochs = epoch,\n",
    "            biased = BIASED,\n",
    "            init_mean = INIT_MEAN,\n",
    "            init_std_dev = INIT_STDDEV,\n",
    "            lr_all = LR_ALL,\n",
    "            reg_all = REG_ALL\n",
    "        )\n",
    "        \n",
    "        algorithm.fit(train_dataset)\n",
    "        validation_z, validation_y = predict(algorithm, validation_df)\n",
    "        test_z, test_y = predict(algorithm, test_df)\n",
    "        \n",
    "        history.append({\n",
    "            'factor': latent_size,\n",
    "            'val_auc': evaluate_auc(validation_z, validation_y),\n",
    "            'test_auc': evaluate_auc(test_z, test_y),\n",
    "            'val_logloss': evaluate_logloss(validation_z, validation_y),\n",
    "            'test_logloss': evaluate_logloss(test_z, test_y),\n",
    "            'val_ndcg': evaluate_ndcg(validation_z, validation_y),\n",
    "            'test_ndcg': evaluate_ndcg(test_z, test_y)\n",
    "        })\n",
    "    return history"
   ]
  },
  {
   "cell_type": "code",
   "execution_count": 28,
   "metadata": {},
   "outputs": [
    {
     "name": "stdout",
     "output_type": "stream",
     "text": [
      "Using Latent size:  2\n",
      "Using Latent size:  6\n",
      "Using Latent size:  10\n",
      "Using Latent size:  14\n",
      "Using Latent size:  18\n"
     ]
    }
   ],
   "source": [
    "history = train_latents(epoch=20, start=2, end=18, step=4)"
   ]
  },
  {
   "cell_type": "code",
   "execution_count": 29,
   "metadata": {},
   "outputs": [
    {
     "name": "stdout",
     "output_type": "stream",
     "text": [
      "| settings | validation AUC | validation LogLoss | validation NDCG@5 | testing AUC | testing LogLoss | testing NDCG@5 |\n",
      "|:-- | -- | -- | -- | -- | -- | -- |\n",
      "| factor_n=2 | 0.99937 | 0.09109 | 1.00000 | 0.99914 | 0.09920 | 0.99959 |\n",
      "| factor_n=6 | 0.99939 | 0.09199 | 1.00000 | 0.99901 | 0.10006 | 0.99980 |\n",
      "| factor_n=10 | 0.99925 | 0.09445 | 1.00000 | 0.99898 | 0.10414 | 0.99924 |\n",
      "| factor_n=14 | 0.99920 | 0.09580 | 1.00000 | 0.99904 | 0.10371 | 0.99963 |\n",
      "| factor_n=18 | 0.99927 | 0.09664 | 1.00000 | 0.99892 | 0.10711 | 0.99927 |\n"
     ]
    }
   ],
   "source": [
    "print(\"| settings | validation AUC | validation LogLoss | validation NDCG@5 | testing AUC | testing LogLoss | testing NDCG@5 |\")\n",
    "print(\"|:-- | -- | -- | -- | -- | -- | -- |\")\n",
    "for his in history:\n",
    "    print(\"| factor_n={} | {:.5f} | {:.5f} | {:.5f} | {:.5f} | {:.5f} | {:.5f} |\".format(\n",
    "        his['factor'],\n",
    "        his['val_auc'],\n",
    "        his['val_logloss'],\n",
    "        his['val_ndcg'],\n",
    "        his['test_auc'],\n",
    "        his['test_logloss'],\n",
    "        his['test_ndcg'],\n",
    "    ))"
   ]
  },
  {
   "cell_type": "markdown",
   "metadata": {},
   "source": [
    "## Experiment Results"
   ]
  },
  {
   "cell_type": "markdown",
   "metadata": {},
   "source": [
    "Fixed hyperparameters:\n",
    "\n",
    "```python\n",
    "EPOCH = 20\n",
    "BIASED = True\n",
    "INIT_MEAN = 0\n",
    "INIT_STDDEV = 0.1\n",
    "LR_ALL = 0.005\n",
    "REG_ALL = 0.02\n",
    "```\n",
    "\n",
    "LON-A dataset:  \n",
    "\n",
    "| settings | validation AUC | validation LogLoss | validation NDCG@5 | testing AUC | testing LogLoss | testing NDCG@5 |\n",
    "|:-- | -- | -- | -- | -- | -- | -- |\n",
    "| **factor_n=2*** | 0.99841 | 0.05098 | 1.00000 | 0.99739 | 0.06513 | 0.99985 |\n",
    "| factor_n=6 | 0.99820 | 0.05361 | 0.99962 | 0.99736 | 0.06490 | 1.00000 |\n",
    "| factor_n=10 | 0.99774 | 0.05501 | 0.99964 | 0.99746 | 0.06523 | 1.00000 |\n",
    "| factor_n=14 | 0.99815 | 0.05452 | 0.99965 | 0.99736 | 0.06574 | 0.99987 |\n",
    "| factor_n=18 | 0.99800 | 0.05710 | 0.99931 | 0.99726 | 0.06809 | 0.99987 |\n",
    "| factor_n=20 | 0.99809 | 0.05508 | 0.99966 | 0.99708 | 0.07104 | 0.99949 |\n",
    "| factor_n=40 | 0.99790 | 0.05916 | 0.99937 | 0.99737 | 0.06787 | 1.00000 |\n",
    "| factor_n=60 | 0.99773 | 0.06047 | 0.99939 | 0.99711 | 0.07147 | 0.99989 |\n",
    "| factor_n=80 | 0.99784 | 0.05947 | 0.99939 | 0.99667 | 0.07446 | 0.99989 |\n",
    "| factor_n=100 | 0.99803 | 0.05862 | 0.99970 | 0.99660 | 0.07951 | 0.99957 |\n",
    "\n",
    "NYC-R dataset:  \n",
    "\n",
    "| settings | validation AUC | validation LogLoss | validation NDCG@5 | testing AUC | testing LogLoss | testing NDCG@5 |\n",
    "|:-- | -- | -- | -- | -- | -- | -- |\n",
    "| **factor_n=2*** | 0.99937 | 0.09109 | 1.00000 | 0.99914 | 0.09920 | 0.99959 |\n",
    "| factor_n=6 | 0.99939 | 0.09199 | 1.00000 | 0.99901 | 0.10006 | 0.99980 |\n",
    "| factor_n=10 | 0.99925 | 0.09445 | 1.00000 | 0.99898 | 0.10414 | 0.99924 |\n",
    "| factor_n=14 | 0.99920 | 0.09580 | 1.00000 | 0.99904 | 0.10371 | 0.99963 |\n",
    "| factor_n=18 | 0.99927 | 0.09664 | 1.00000 | 0.99892 | 0.10711 | 0.99927 |"
   ]
  }
 ],
 "metadata": {
  "kernelspec": {
   "display_name": "Python 3",
   "language": "python",
   "name": "python3"
  },
  "language_info": {
   "codemirror_mode": {
    "name": "ipython",
    "version": 3
   },
   "file_extension": ".py",
   "mimetype": "text/x-python",
   "name": "python",
   "nbconvert_exporter": "python",
   "pygments_lexer": "ipython3",
   "version": "3.7.7"
  }
 },
 "nbformat": 4,
 "nbformat_minor": 4
}
