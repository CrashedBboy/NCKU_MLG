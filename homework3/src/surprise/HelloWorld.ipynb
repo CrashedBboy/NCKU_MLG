{
 "cells": [
  {
   "cell_type": "code",
   "execution_count": 1,
   "metadata": {},
   "outputs": [],
   "source": [
    "from surprise import SVD\n",
    "from surprise import Dataset\n",
    "from surprise.model_selection import cross_validate"
   ]
  },
  {
   "cell_type": "code",
   "execution_count": 2,
   "metadata": {},
   "outputs": [
    {
     "name": "stdout",
     "output_type": "stream",
     "text": [
      "Dataset ml-100k could not be found. Do you want to download it? [Y/n] Y\n",
      "Trying to download dataset from http://files.grouplens.org/datasets/movielens/ml-100k.zip...\n",
      "Done! Dataset ml-100k has been saved to C:\\Users\\CrashedBboy/.surprise_data/ml-100k\n"
     ]
    }
   ],
   "source": [
    "# Load the movielens-100k dataset (download it if needed).\n",
    "data = Dataset.load_builtin('ml-100k')"
   ]
  },
  {
   "cell_type": "code",
   "execution_count": 3,
   "metadata": {},
   "outputs": [],
   "source": [
    "# Use the famous SVD algorithm.\n",
    "algo = SVD()"
   ]
  },
  {
   "cell_type": "code",
   "execution_count": 7,
   "metadata": {},
   "outputs": [
    {
     "name": "stdout",
     "output_type": "stream",
     "text": [
      "Evaluating RMSE, MAE of algorithm SVD on 5 split(s).\n",
      "\n",
      "                  Fold 1  Fold 2  Fold 3  Fold 4  Fold 5  Mean    Std     \n",
      "RMSE (testset)    0.9423  0.9317  0.9307  0.9407  0.9345  0.9360  0.0047  \n",
      "MAE (testset)     0.7429  0.7349  0.7321  0.7407  0.7357  0.7373  0.0039  \n",
      "Fit time          4.53    4.61    4.64    4.42    4.42    4.52    0.09    \n",
      "Test time         0.16    0.20    0.15    0.12    0.14    0.15    0.03    \n"
     ]
    },
    {
     "data": {
      "text/plain": [
       "{'test_rmse': array([0.94228828, 0.93168436, 0.93070674, 0.94068416, 0.93449448]),\n",
       " 'test_mae': array([0.7428966 , 0.73485569, 0.73214906, 0.74067457, 0.73568281]),\n",
       " 'fit_time': (4.528966188430786,\n",
       "  4.613037586212158,\n",
       "  4.639313220977783,\n",
       "  4.4229981899261475,\n",
       "  4.41899561882019),\n",
       " 'test_time': (0.1640002727508545,\n",
       "  0.1959993839263916,\n",
       "  0.14597058296203613,\n",
       "  0.11799931526184082,\n",
       "  0.14499974250793457)}"
      ]
     },
     "execution_count": 7,
     "metadata": {},
     "output_type": "execute_result"
    }
   ],
   "source": [
    "# Run 5-fold cross-validation and print results.\n",
    "cross_validate(algo, data, measures=['RMSE', 'MAE'], cv=5, verbose=True)"
   ]
  }
 ],
 "metadata": {
  "kernelspec": {
   "display_name": "Python 3",
   "language": "python",
   "name": "python3"
  },
  "language_info": {
   "codemirror_mode": {
    "name": "ipython",
    "version": 3
   },
   "file_extension": ".py",
   "mimetype": "text/x-python",
   "name": "python",
   "nbconvert_exporter": "python",
   "pygments_lexer": "ipython3",
   "version": "3.7.7"
  }
 },
 "nbformat": 4,
 "nbformat_minor": 4
}
