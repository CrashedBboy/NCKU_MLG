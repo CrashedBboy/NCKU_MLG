{
 "cells": [
  {
   "cell_type": "code",
   "execution_count": 1,
   "metadata": {},
   "outputs": [],
   "source": [
    "from surprise import BaselineOnly\n",
    "from surprise import Dataset\n",
    "from surprise import Reader\n",
    "from surprise.model_selection import cross_validate"
   ]
  },
  {
   "cell_type": "code",
   "execution_count": 6,
   "metadata": {},
   "outputs": [],
   "source": [
    "import os"
   ]
  },
  {
   "cell_type": "code",
   "execution_count": 8,
   "metadata": {},
   "outputs": [
    {
     "data": {
      "text/plain": [
       "'C:\\\\Users\\\\CrashedBboy/.surprise_data/ml-100k/ml-100k/u.data'"
      ]
     },
     "execution_count": 8,
     "metadata": {},
     "output_type": "execute_result"
    }
   ],
   "source": [
    "file_path = os.path.expanduser('~/.surprise_data/ml-100k/ml-100k/u.data')\n",
    "file_path"
   ]
  },
  {
   "cell_type": "code",
   "execution_count": 9,
   "metadata": {},
   "outputs": [],
   "source": [
    "# format of movielens-100k: 'user item rating timestamp'\n",
    "# separated by '\\t'\n",
    "reader = Reader(line_format='user item rating timestamp', sep='\\t')"
   ]
  },
  {
   "cell_type": "code",
   "execution_count": 12,
   "metadata": {},
   "outputs": [
    {
     "data": {
      "text/plain": [
       "<surprise.dataset.DatasetAutoFolds at 0x23133115888>"
      ]
     },
     "execution_count": 12,
     "metadata": {},
     "output_type": "execute_result"
    }
   ],
   "source": [
    "data = Dataset.load_from_file(file_path, reader=reader)\n",
    "data"
   ]
  },
  {
   "cell_type": "code",
   "execution_count": 13,
   "metadata": {},
   "outputs": [
    {
     "name": "stdout",
     "output_type": "stream",
     "text": [
      "Estimating biases using als...\n",
      "Estimating biases using als...\n",
      "Estimating biases using als...\n",
      "Estimating biases using als...\n",
      "Estimating biases using als...\n",
      "Evaluating RMSE, MAE of algorithm BaselineOnly on 5 split(s).\n",
      "\n",
      "                  Fold 1  Fold 2  Fold 3  Fold 4  Fold 5  Mean    Std     \n",
      "RMSE (testset)    0.9402  0.9563  0.9394  0.9446  0.9409  0.9443  0.0063  \n",
      "MAE (testset)     0.7454  0.7592  0.7447  0.7482  0.7459  0.7487  0.0054  \n",
      "Fit time          0.23    0.26    0.27    0.26    0.26    0.26    0.01    \n",
      "Test time         0.13    0.13    0.09    0.09    0.12    0.11    0.02    \n"
     ]
    },
    {
     "data": {
      "text/plain": [
       "{'test_rmse': array([0.94017474, 0.95634362, 0.93935081, 0.94456546, 0.94087872]),\n",
       " 'test_mae': array([0.74537797, 0.75918727, 0.74472512, 0.7481806 , 0.7458877 ]),\n",
       " 'fit_time': (0.2349989414215088,\n",
       "  0.257000207901001,\n",
       "  0.26600003242492676,\n",
       "  0.26000237464904785,\n",
       "  0.2599971294403076),\n",
       " 'test_time': (0.12897253036499023,\n",
       "  0.1269981861114502,\n",
       "  0.09400081634521484,\n",
       "  0.09499597549438477,\n",
       "  0.12100005149841309)}"
      ]
     },
     "execution_count": 13,
     "metadata": {},
     "output_type": "execute_result"
    }
   ],
   "source": [
    "cross_validate(BaselineOnly(), data, verbose=True)"
   ]
  }
 ],
 "metadata": {
  "kernelspec": {
   "display_name": "Python 3",
   "language": "python",
   "name": "python3"
  },
  "language_info": {
   "codemirror_mode": {
    "name": "ipython",
    "version": 3
   },
   "file_extension": ".py",
   "mimetype": "text/x-python",
   "name": "python",
   "nbconvert_exporter": "python",
   "pygments_lexer": "ipython3",
   "version": "3.7.7"
  }
 },
 "nbformat": 4,
 "nbformat_minor": 4
}
