{
 "cells": [
  {
   "cell_type": "markdown",
   "metadata": {},
   "source": [
    "## Convolutional Inner‐Product Neural Network"
   ]
  },
  {
   "cell_type": "markdown",
   "metadata": {},
   "source": [
    "#### 1. Set-up\n",
    "import dependent packages and declare consts"
   ]
  },
  {
   "cell_type": "code",
   "execution_count": 59,
   "metadata": {},
   "outputs": [],
   "source": [
    "# data handling\n",
    "import numpy as np\n",
    "import pandas as pd\n",
    "import torch\n",
    "import torch.nn as nn\n",
    "\n",
    "# evaluation metrics & dataset processing\n",
    "from sklearn.model_selection import train_test_split\n",
    "from sklearn import metrics\n",
    "from sklearn.preprocessing import LabelEncoder\n",
    "from tensorflow.python.keras.preprocessing.sequence import pad_sequences\n",
    "\n",
    "# DeepCTR\n",
    "from deepctr_torch.inputs import SparseFeat, VarLenSparseFeat, get_feature_names, combined_dnn_input\n",
    "from deepctr_torch.models import PNN\n",
    "from deepctr_torch.models.basemodel import BaseModel\n",
    "from deepctr_torch.layers import DNN, concat_fun, InnerProductLayer, OutterProductLayer, ConvLayer"
   ]
  },
  {
   "cell_type": "code",
   "execution_count": 4,
   "metadata": {},
   "outputs": [],
   "source": [
    "# setup computing device for pytorch\n",
    "device = torch.device('cuda:0' if torch.cuda.is_available() else 'cpu')"
   ]
  },
  {
   "cell_type": "code",
   "execution_count": 5,
   "metadata": {},
   "outputs": [],
   "source": [
    "# consts\n",
    "\n",
    "# dataset path\n",
    "DATASET1 = '../../data/extracted/LON-A/London_Attractions_Complete_Review.csv'\n",
    "DATASET2 = '../../data/extracted/NYC-R/New_York_City_Restaurant_Complete_Review.csv'\n",
    "\n",
    "OCCURENCE_THRESHOLD = 5"
   ]
  },
  {
   "cell_type": "markdown",
   "metadata": {},
   "source": [
    "* Variable length columns * 3\n",
    "  - ustyle, iattribute, itag\n",
    "* Sparse columns * 8/9\n",
    "  - uage, ugender, ucity, ucountry, uid_index, ulevel, iid, irating, iprice(NYC only)"
   ]
  },
  {
   "cell_type": "code",
   "execution_count": 6,
   "metadata": {},
   "outputs": [],
   "source": [
    "# dataset columns: user, item, rating\n",
    "user_columns = ['uage', 'ugender', 'ucity', 'ucountry', 'uid_index', 'ulevel', 'ustyle']\n",
    "LON_item_columns = ['iid', 'iattribute', 'irating', 'itag']\n",
    "NYC_item_columns = ['iid', 'iattribute', 'iprice', 'irating', 'itag']\n",
    "rating_columns = ['rrate', 'rid']\n",
    "\n",
    "# dataset columns: sparse (one value) / variable length (multiple values)\n",
    "LON_sparse_features = [\"uage\", \"ugender\", \"ucity\", \"ucountry\", \"uid_index\", \"ulevel\", 'iid', 'irating']\n",
    "NYC_sparse_features = [\"uage\", \"ugender\", \"ucity\", \"ucountry\", \"uid_index\", \"ulevel\", 'iid', 'irating', 'iprice']\n",
    "var_sparse_features = ['ustyle', 'iattribute', 'itag']"
   ]
  },
  {
   "cell_type": "markdown",
   "metadata": {},
   "source": [
    "#### 3. Data Preprocessing\n",
    "\n",
    "* Retain users/items with at least five ratings only\n",
    "* Data splitting\n",
    "  - the latest 20% interactions (by time)\n",
    "  - Randomly split the remaining data into training (70%) and validation (10%) sets\n",
    "* Transform the ratings into binary implicit feedback as ground truth, indicating whether the user has interacted with the specific item\n",
    "* Transform SparseFeat(single value) into categorical data\n",
    "* Transform VarLenSparseFeat(multiple values) columns into muliple columns of categorical data\n",
    "* Then embed categorical data"
   ]
  },
  {
   "cell_type": "code",
   "execution_count": 7,
   "metadata": {},
   "outputs": [],
   "source": [
    "def sort_by_time(df):\n",
    "    return df.sort_values(by=['rid'], ascending=True)\n",
    "\n",
    "def filter_by_occurrence(df, column, threshold):\n",
    "    return df.groupby(column).filter(lambda x: len(x) >= OCCURENCE_THRESHOLD)\n",
    "\n",
    "def convert_binary(df):\n",
    "    df.loc[df['rrate'] != \"None\", 'rrate'] = 1\n",
    "    df.loc[df['rrate'] == \"None\", 'rrate'] = 0\n",
    "    return df\n",
    "\n",
    "def add_var_column(df, column):\n",
    "    key2index = {}\n",
    "    \n",
    "    def split(x):\n",
    "        key_ans = x.split(',')\n",
    "        for key in key_ans:\n",
    "            if key not in key2index:\n",
    "                key2index[key] = len(key2index) + 1 # index starts from 1\n",
    "        return list(map(lambda x: key2index[x], key_ans))\n",
    "    \n",
    "    # remove unnecessary characters\n",
    "    df[column] = df[column].str.replace('[', '').str.replace(']', '').str.replace(', ', ',')\n",
    "    column_list = list(map(split, df[column].values))\n",
    "    column_length = np.array(list(map(len, column_list)))\n",
    "    column_maxlen = max(column_length)\n",
    "    column_list = pad_sequences(column_list, maxlen=column_maxlen, padding='post', )\n",
    "    df = pd.concat([df, pd.DataFrame(column_list).add_prefix(str(column))], axis=1)\n",
    "    \n",
    "    return df, key2index, column_maxlen\n",
    "\n",
    "def split_df(df):\n",
    "    df['rating_cumcounts'] = df.groupby(['uid_index'])['rid'].rank(method='first', ascending=True)\n",
    "    tmp = df.groupby('uid_index').size().rename('total_counts')\n",
    "    df = df.join(tmp, on='uid_index', rsuffix='_r')\n",
    "    train_df = df.loc[df['rating_cumcounts'] < (df['total_counts']*0.8)]\n",
    "    test_df = df.loc[df['rating_cumcounts'] >= (df['total_counts']*0.8)]\n",
    "    train_df, validation_df = train_test_split(train_df, test_size=0.1, random_state=1)\n",
    "    \n",
    "    return train_df, validation_df, test_df"
   ]
  },
  {
   "cell_type": "code",
   "execution_count": 8,
   "metadata": {},
   "outputs": [],
   "source": [
    "def dataset(DATASET = 'LON'):\n",
    "    \n",
    "    if DATASET == 'LON':\n",
    "        df = pd.read_csv(DATASET1, sep='\\t')[user_columns + LON_item_columns + rating_columns].fillna('NaN')\n",
    "        sparse_features = LON_sparse_features\n",
    "    else:\n",
    "        df = pd.read_csv(DATASET2, sep='\\t')[user_columns + NYC_item_columns + rating_columns].fillna('NaN')\n",
    "        sparse_features = NYC_sparse_features\n",
    "    \n",
    "    # sort by time (ascending order)\n",
    "    df = sort_by_time(df)\n",
    "    \n",
    "    # retain users/items with at least five ratings only\n",
    "    df = filter_by_occurrence(df, 'uid_index', 5)\n",
    "    df = filter_by_occurrence(df, 'iid', 5)\n",
    "    \n",
    "    # convert ratings into binarys\n",
    "    df = convert_binary(df)\n",
    "    df = df.reset_index(drop=True)\n",
    "    \n",
    "    # transform columns with single values into category. e.g. 'male' => 1, 'female' => 2\n",
    "    for feat in sparse_features:\n",
    "        lbe = LabelEncoder()\n",
    "        df[feat] = lbe.fit_transform(df[feat].astype('str'))\n",
    "\n",
    "    # add variable length categorical columns to dataframe\n",
    "    column_dict_list, column_maxlen_list = [], []\n",
    "    for column in var_sparse_features:\n",
    "        df, column_dict, column_maxlen = add_var_column(df, column)\n",
    "        column_dict_list.append(column_dict)\n",
    "        column_maxlen_list.append(column_maxlen)\n",
    "        \n",
    "    \n",
    "    fixlen_feature_columns = [SparseFeat(feat, df[feat].nunique(), embedding_dim=4)\n",
    "                              for feat in LON_sparse_features]\n",
    "    \n",
    "    # note: vocabulary need to add 1: 0 cannot be used\n",
    "    varlen_feature_columns = [VarLenSparseFeat(SparseFeat(feat, vocabulary_size=len(column_dict_list[i]) + 1,\n",
    "                                  embedding_dim=4), maxlen=column_maxlen_list[i], combiner='mean',) \n",
    "                                  for i, feat in enumerate(var_sparse_features)]  \n",
    "    linear_feature_columns = fixlen_feature_columns + varlen_feature_columns\n",
    "    dnn_feature_columns = fixlen_feature_columns + varlen_feature_columns\n",
    "    #feature_names = get_feature_names(linear_feature_columns + dnn_feature_columns)\n",
    "    \n",
    "    train_df, val_df, test_df = split_df(df)\n",
    "    \n",
    "    \n",
    "    # train set\n",
    "    train_model_input = {name: train_df[name] for name in sparse_features} \n",
    "    for i, feat in enumerate(var_sparse_features):\n",
    "        train_model_input[feat] = train_df.filter(regex='^'+feat+'.+',axis=1).values\n",
    "    \n",
    "    # validation set\n",
    "    val_model_input = {name: val_df[name] for name in sparse_features} \n",
    "    for i, feat in enumerate(var_sparse_features):\n",
    "        val_model_input[feat] = val_df.filter(regex='^'+feat+'.+',axis=1).values\n",
    "    \n",
    "    # test set\n",
    "    test_model_input = {name: test_df[name] for name in sparse_features}\n",
    "    for i, feat in enumerate(var_sparse_features):\n",
    "        test_model_input[feat] = test_df.filter(regex='^'+feat+'.+',axis=1).values\n",
    "    \n",
    "    train_y, val_y, test_y = train_df['rrate'].values, val_df['rrate'].values, test_df['rrate'].values\n",
    "        \n",
    "    return train_model_input, train_y, val_model_input, val_y, test_model_input, test_y, linear_feature_columns, dnn_feature_columns"
   ]
  },
  {
   "cell_type": "code",
   "execution_count": 9,
   "metadata": {},
   "outputs": [
    {
     "data": {
      "text/plain": [
       "((87440,), (9716,), (39339,))"
      ]
     },
     "execution_count": 9,
     "metadata": {},
     "output_type": "execute_result"
    }
   ],
   "source": [
    "data = dataset('LON')\n",
    "\n",
    "train_model_input, train_y, val_model_input, val_y, test_model_input, test_y = data[:6]\n",
    "linear_feature_columns, dnn_feature_columns = data[6:8]\n",
    "\n",
    "train_y.shape, val_y.shape, test_y.shape"
   ]
  },
  {
   "cell_type": "markdown",
   "metadata": {},
   "source": [
    "#### 4. Define ConvIPNN Model\n",
    "\n",
    "to tuning model parameters, check [DeepCTR-Torch](https://github.com/shenweichen/DeepCTR-Torch/tree/master/deepctr_torch/models)"
   ]
  },
  {
   "cell_type": "code",
   "execution_count": 55,
   "metadata": {},
   "outputs": [],
   "source": [
    "class ConvIPNN(BaseModel):\n",
    "    \"\"\"Instantiates the Product-based Neural Network architecture.\n",
    "    :param dnn_feature_columns: An iterable containing all the features used by deep part of the model.\n",
    "    :param dnn_hidden_units: list,list of positive integer or empty list, the layer number and units in each layer of deep net\n",
    "    :param l2_reg_embedding: float . L2 regularizer strength applied to embedding vector\n",
    "    :param l2_reg_dnn: float. L2 regularizer strength applied to DNN\n",
    "    :param init_std: float,to use as the initialize std of embedding vector\n",
    "    :param seed: integer ,to use as random seed.\n",
    "    :param dnn_dropout: float in [0,1), the probability we will drop out a given DNN coordinate.\n",
    "    :param dnn_activation: Activation function to use in DNN\n",
    "    :param conv_kernel_width: list,list of positive integer or empty list,the width of filter in each conv layer.\n",
    "    :param conv_filters: list,list of positive integer or empty list,the number of filters in each conv layer.\n",
    "    :param task: str, ``\"binary\"`` for  binary logloss or  ``\"regression\"`` for regression loss\n",
    "    :param device: str, ``\"cpu\"`` or ``\"cuda:0\"``\n",
    "    :return: A PyTorch model instance.\n",
    "    \n",
    "    \"\"\"\n",
    "\n",
    "    def __init__(self, dnn_feature_columns, dnn_hidden_units=(128, 128), l2_reg_embedding=1e-5, l2_reg_dnn=0,\n",
    "                 init_std=0.0001, seed=1024, dnn_dropout=0, dnn_activation='relu',\n",
    "                 conv_kernel_width=(6, 5), conv_filters=(4, 4),\n",
    "                 task='binary', device='cpu', ):\n",
    "\n",
    "        super(ConvIPNN, self).__init__([], dnn_feature_columns,\n",
    "                                  dnn_hidden_units=dnn_hidden_units,\n",
    "                                  l2_reg_embedding=l2_reg_embedding, l2_reg_dnn=l2_reg_dnn,\n",
    "                                  l2_reg_linear=0, init_std=init_std, seed=seed,\n",
    "                                  dnn_dropout=dnn_dropout, dnn_activation=dnn_activation,\n",
    "                                  task=task, device=device)\n",
    "        \n",
    "        \n",
    "        \n",
    "        # get how many types of feature in input\n",
    "        num_inputs = self.compute_input_dim(dnn_feature_columns, include_dense=False, feature_group=True)\n",
    "        \n",
    "        \n",
    "        # convolutional layers\n",
    "        self.conv_layer = ConvLayer(field_size=num_inputs, conv_kernel_width=conv_kernel_width,\n",
    "                                    conv_filters=conv_filters, device=device)\n",
    "        \n",
    "        # compute how many pairs of feature interaction\n",
    "        num_pairs = int(num_inputs * (num_inputs - 1) / 2)\n",
    "\n",
    "        # inner-product layer\n",
    "        self.innerproduct = InnerProductLayer(device=device)\n",
    "\n",
    "        # DNN layer, placed after inner-product layer, combine inner-producted and linear inputs as layer input\n",
    "        self.dnn = DNN(num_pairs + self.compute_input_dim(dnn_feature_columns), dnn_hidden_units,\n",
    "                       activation=dnn_activation, l2_reg=l2_reg_dnn, dropout_rate=dnn_dropout, use_bn=False,\n",
    "                       init_std=init_std, device=device)\n",
    "\n",
    "        # last linear layer, placed after DNN layer\n",
    "        self.dnn_linear = nn.Linear(\n",
    "            dnn_hidden_units[-1], 1, bias=False).to(device)\n",
    "        \n",
    "        # add regularization\n",
    "        self.add_regularization_loss(\n",
    "            filter(lambda x: 'weight' in x[0] and 'bn' not in x[0], self.dnn.named_parameters()), l2_reg_dnn)\n",
    "        self.add_regularization_loss(self.dnn_linear.weight, l2_reg_dnn)\n",
    "\n",
    "        self.to(device)\n",
    "\n",
    "    def forward(self, X):\n",
    "\n",
    "        sparse_embedding_list, dense_value_list = self.input_from_feature_columns(X, self.dnn_feature_columns,\n",
    "                                                                                  self.embedding_dict)\n",
    "\n",
    "        # Convolutional\n",
    "        conv_input = concat_fun(sparse_embedding_list, axis=1)\n",
    "        conv_input_concact = torch.unsqueeze(conv_input, 1)\n",
    "        pooling_result = self.conv_layer(conv_input_concact)\n",
    "        flatten_result = pooling_result.view(pooling_result.size(0), -1)\n",
    "        dnn_output = self.dnn(flatten_result)\n",
    "        dnn_logit = self.dnn_linear(dnn_output)\n",
    "        logit = linear_logit + dnn_logit\n",
    "        y_pred = self.out(logit)\n",
    "        # end Convolutional\n",
    "        \n",
    "        linear_signal = torch.flatten(\n",
    "            concat_fun(sparse_embedding_list), start_dim=1)\n",
    "        \n",
    "        producted = self.innerproduct(sparse_embedding_list)\n",
    "        \n",
    "        print(producted.shape)\n",
    "\n",
    "        inner_product = torch.flatten(producted, start_dim=1)\n",
    "\n",
    "        product_layer = torch.cat([linear_signal, inner_product], dim=1)\n",
    "\n",
    "        dnn_input = combined_dnn_input([product_layer], dense_value_list)\n",
    "        dnn_output = self.dnn(dnn_input)\n",
    "        dnn_logit = self.dnn_linear(dnn_output)\n",
    "        logit = dnn_logit\n",
    "\n",
    "        y_pred = self.out(logit)\n",
    "\n",
    "        return y_pred"
   ]
  },
  {
   "cell_type": "code",
   "execution_count": 56,
   "metadata": {
    "scrolled": true
   },
   "outputs": [],
   "source": [
    "model = ConvIPNN(dnn_feature_columns, task='binary', device=device)\n",
    "model.compile(\"adam\", \"binary_crossentropy\", metrics=['logloss'], )\n"
   ]
  },
  {
   "cell_type": "code",
   "execution_count": 39,
   "metadata": {},
   "outputs": [
    {
     "data": {
      "text/plain": [
       "ModuleDict(\n",
       "  (iattribute): Embedding(82, 4)\n",
       "  (iid): Embedding(694, 4)\n",
       "  (irating): Embedding(6, 4)\n",
       "  (itag): Embedding(4467, 4)\n",
       "  (uage): Embedding(7, 4)\n",
       "  (ucity): Embedding(3073, 4)\n",
       "  (ucountry): Embedding(126, 4)\n",
       "  (ugender): Embedding(3, 4)\n",
       "  (uid_index): Embedding(16315, 4)\n",
       "  (ulevel): Embedding(7, 4)\n",
       "  (ustyle): Embedding(21, 4)\n",
       ")"
      ]
     },
     "execution_count": 39,
     "metadata": {},
     "output_type": "execute_result"
    }
   ],
   "source": [
    "model.embedding_dict"
   ]
  },
  {
   "cell_type": "code",
   "execution_count": 28,
   "metadata": {},
   "outputs": [
    {
     "data": {
      "text/plain": [
       "[SparseFeat(name='uage', vocabulary_size=7, embedding_dim=4, use_hash=False, dtype='int32', embedding_name='uage', group_name='default_group'),\n",
       " SparseFeat(name='ugender', vocabulary_size=3, embedding_dim=4, use_hash=False, dtype='int32', embedding_name='ugender', group_name='default_group'),\n",
       " SparseFeat(name='ucity', vocabulary_size=3073, embedding_dim=4, use_hash=False, dtype='int32', embedding_name='ucity', group_name='default_group'),\n",
       " SparseFeat(name='ucountry', vocabulary_size=126, embedding_dim=4, use_hash=False, dtype='int32', embedding_name='ucountry', group_name='default_group'),\n",
       " SparseFeat(name='uid_index', vocabulary_size=16315, embedding_dim=4, use_hash=False, dtype='int32', embedding_name='uid_index', group_name='default_group'),\n",
       " SparseFeat(name='ulevel', vocabulary_size=7, embedding_dim=4, use_hash=False, dtype='int32', embedding_name='ulevel', group_name='default_group'),\n",
       " SparseFeat(name='iid', vocabulary_size=694, embedding_dim=4, use_hash=False, dtype='int32', embedding_name='iid', group_name='default_group'),\n",
       " SparseFeat(name='irating', vocabulary_size=6, embedding_dim=4, use_hash=False, dtype='int32', embedding_name='irating', group_name='default_group'),\n",
       " VarLenSparseFeat(sparsefeat=SparseFeat(name='ustyle', vocabulary_size=21, embedding_dim=4, use_hash=False, dtype='int32', embedding_name='ustyle', group_name='default_group'), maxlen=19, combiner='mean', length_name=None),\n",
       " VarLenSparseFeat(sparsefeat=SparseFeat(name='iattribute', vocabulary_size=82, embedding_dim=4, use_hash=False, dtype='int32', embedding_name='iattribute', group_name='default_group'), maxlen=11, combiner='mean', length_name=None),\n",
       " VarLenSparseFeat(sparsefeat=SparseFeat(name='itag', vocabulary_size=4467, embedding_dim=4, use_hash=False, dtype='int32', embedding_name='itag', group_name='default_group'), maxlen=20, combiner='mean', length_name=None)]"
      ]
     },
     "execution_count": 28,
     "metadata": {},
     "output_type": "execute_result"
    }
   ],
   "source": [
    "dnn_feature_columns"
   ]
  },
  {
   "cell_type": "markdown",
   "metadata": {},
   "source": [
    "#### 5. Training"
   ]
  },
  {
   "cell_type": "code",
   "execution_count": 57,
   "metadata": {},
   "outputs": [
    {
     "name": "stdout",
     "output_type": "stream",
     "text": [
      "cpu\n",
      "Train on 87440 samples, validate on 9716 samples, 171 steps per epoch\n",
      "torch.Size([512, 55, 1])\n",
      "torch.Size([512, 55, 1])\n",
      "torch.Size([512, 55, 1])\n",
      "torch.Size([512, 55, 1])\n",
      "torch.Size([512, 55, 1])\n",
      "torch.Size([512, 55, 1])\n",
      "torch.Size([512, 55, 1])\n",
      "torch.Size([512, 55, 1])\n",
      "torch.Size([512, 55, 1])\n",
      "torch.Size([512, 55, 1])\n",
      "torch.Size([512, 55, 1])\n",
      "torch.Size([512, 55, 1])\n",
      "torch.Size([512, 55, 1])\n",
      "torch.Size([512, 55, 1])\n",
      "torch.Size([512, 55, 1])\n",
      "torch.Size([512, 55, 1])\n",
      "torch.Size([512, 55, 1])\n",
      "torch.Size([512, 55, 1])\n",
      "torch.Size([512, 55, 1])\n",
      "torch.Size([512, 55, 1])\n",
      "torch.Size([512, 55, 1])\n",
      "torch.Size([512, 55, 1])\n",
      "torch.Size([512, 55, 1])\n",
      "torch.Size([512, 55, 1])\n",
      "torch.Size([512, 55, 1])\n"
     ]
    },
    {
     "ename": "KeyboardInterrupt",
     "evalue": "",
     "output_type": "error",
     "traceback": [
      "\u001b[1;31m---------------------------------------------------------------------------\u001b[0m",
      "\u001b[1;31mKeyboardInterrupt\u001b[0m                         Traceback (most recent call last)",
      "\u001b[1;32m<ipython-input-57-430182d0fbba>\u001b[0m in \u001b[0;36m<module>\u001b[1;34m\u001b[0m\n\u001b[0;32m      1\u001b[0m history = model.fit(train_model_input, train_y, batch_size=512, epochs=3, verbose=2,\n\u001b[1;32m----> 2\u001b[1;33m                     validation_data=(val_model_input, val_y), use_double=True)\n\u001b[0m",
      "\u001b[1;32m~\\.conda\\envs\\deepctr\\lib\\site-packages\\deepctr_torch\\models\\basemodel.py\u001b[0m in \u001b[0;36mfit\u001b[1;34m(self, x, y, batch_size, epochs, verbose, initial_epoch, validation_split, validation_data, shuffle, use_double)\u001b[0m\n\u001b[0;32m    222\u001b[0m                         \u001b[0mloss_epoch\u001b[0m \u001b[1;33m+=\u001b[0m \u001b[0mloss\u001b[0m\u001b[1;33m.\u001b[0m\u001b[0mitem\u001b[0m\u001b[1;33m(\u001b[0m\u001b[1;33m)\u001b[0m\u001b[1;33m\u001b[0m\u001b[1;33m\u001b[0m\u001b[0m\n\u001b[0;32m    223\u001b[0m                         \u001b[0mtotal_loss_epoch\u001b[0m \u001b[1;33m+=\u001b[0m \u001b[0mtotal_loss\u001b[0m\u001b[1;33m.\u001b[0m\u001b[0mitem\u001b[0m\u001b[1;33m(\u001b[0m\u001b[1;33m)\u001b[0m\u001b[1;33m\u001b[0m\u001b[1;33m\u001b[0m\u001b[0m\n\u001b[1;32m--> 224\u001b[1;33m                         \u001b[0mtotal_loss\u001b[0m\u001b[1;33m.\u001b[0m\u001b[0mbackward\u001b[0m\u001b[1;33m(\u001b[0m\u001b[0mretain_graph\u001b[0m\u001b[1;33m=\u001b[0m\u001b[1;32mTrue\u001b[0m\u001b[1;33m)\u001b[0m\u001b[1;33m\u001b[0m\u001b[1;33m\u001b[0m\u001b[0m\n\u001b[0m\u001b[0;32m    225\u001b[0m                         \u001b[0moptim\u001b[0m\u001b[1;33m.\u001b[0m\u001b[0mstep\u001b[0m\u001b[1;33m(\u001b[0m\u001b[1;33m)\u001b[0m\u001b[1;33m\u001b[0m\u001b[1;33m\u001b[0m\u001b[0m\n\u001b[0;32m    226\u001b[0m \u001b[1;33m\u001b[0m\u001b[0m\n",
      "\u001b[1;32m~\\.conda\\envs\\deepctr\\lib\\site-packages\\torch\\tensor.py\u001b[0m in \u001b[0;36mbackward\u001b[1;34m(self, gradient, retain_graph, create_graph)\u001b[0m\n\u001b[0;32m    193\u001b[0m                 \u001b[0mproducts\u001b[0m\u001b[1;33m.\u001b[0m \u001b[0mDefaults\u001b[0m \u001b[0mto\u001b[0m\u001b[0;31m \u001b[0m\u001b[0;31m`\u001b[0m\u001b[0;31m`\u001b[0m\u001b[1;32mFalse\u001b[0m\u001b[0;31m`\u001b[0m\u001b[0;31m`\u001b[0m\u001b[1;33m.\u001b[0m\u001b[1;33m\u001b[0m\u001b[1;33m\u001b[0m\u001b[0m\n\u001b[0;32m    194\u001b[0m         \"\"\"\n\u001b[1;32m--> 195\u001b[1;33m         \u001b[0mtorch\u001b[0m\u001b[1;33m.\u001b[0m\u001b[0mautograd\u001b[0m\u001b[1;33m.\u001b[0m\u001b[0mbackward\u001b[0m\u001b[1;33m(\u001b[0m\u001b[0mself\u001b[0m\u001b[1;33m,\u001b[0m \u001b[0mgradient\u001b[0m\u001b[1;33m,\u001b[0m \u001b[0mretain_graph\u001b[0m\u001b[1;33m,\u001b[0m \u001b[0mcreate_graph\u001b[0m\u001b[1;33m)\u001b[0m\u001b[1;33m\u001b[0m\u001b[1;33m\u001b[0m\u001b[0m\n\u001b[0m\u001b[0;32m    196\u001b[0m \u001b[1;33m\u001b[0m\u001b[0m\n\u001b[0;32m    197\u001b[0m     \u001b[1;32mdef\u001b[0m \u001b[0mregister_hook\u001b[0m\u001b[1;33m(\u001b[0m\u001b[0mself\u001b[0m\u001b[1;33m,\u001b[0m \u001b[0mhook\u001b[0m\u001b[1;33m)\u001b[0m\u001b[1;33m:\u001b[0m\u001b[1;33m\u001b[0m\u001b[1;33m\u001b[0m\u001b[0m\n",
      "\u001b[1;32m~\\.conda\\envs\\deepctr\\lib\\site-packages\\torch\\autograd\\__init__.py\u001b[0m in \u001b[0;36mbackward\u001b[1;34m(tensors, grad_tensors, retain_graph, create_graph, grad_variables)\u001b[0m\n\u001b[0;32m     97\u001b[0m     Variable._execution_engine.run_backward(\n\u001b[0;32m     98\u001b[0m         \u001b[0mtensors\u001b[0m\u001b[1;33m,\u001b[0m \u001b[0mgrad_tensors\u001b[0m\u001b[1;33m,\u001b[0m \u001b[0mretain_graph\u001b[0m\u001b[1;33m,\u001b[0m \u001b[0mcreate_graph\u001b[0m\u001b[1;33m,\u001b[0m\u001b[1;33m\u001b[0m\u001b[1;33m\u001b[0m\u001b[0m\n\u001b[1;32m---> 99\u001b[1;33m         allow_unreachable=True)  # allow_unreachable flag\n\u001b[0m\u001b[0;32m    100\u001b[0m \u001b[1;33m\u001b[0m\u001b[0m\n\u001b[0;32m    101\u001b[0m \u001b[1;33m\u001b[0m\u001b[0m\n",
      "\u001b[1;31mKeyboardInterrupt\u001b[0m: "
     ]
    }
   ],
   "source": [
    "history = model.fit(train_model_input, train_y, batch_size=512, epochs=3, verbose=2,\n",
    "                    validation_data=(val_model_input, val_y), use_double=True)"
   ]
  },
  {
   "cell_type": "markdown",
   "metadata": {},
   "source": [
    "#### 6. Prediction & Evaluation"
   ]
  },
  {
   "cell_type": "code",
   "execution_count": 19,
   "metadata": {},
   "outputs": [],
   "source": [
    "def evaluate_auc(z, y):\n",
    "    return metrics.roc_auc_score(y, z)\n",
    "\n",
    "# assume parameters z & y are ndarray\n",
    "def evaluate_logloss(z, y):\n",
    "    zf = z.flatten()\n",
    "    zz = np.ones((zf.shape[0], 2))\n",
    "    zz[:, 0] -= zf\n",
    "    zz[:, 1] = zf\n",
    "    return metrics.log_loss(y, zz)\n",
    "\n",
    "# assume parameters z & y are ndarray\n",
    "def evaluate_ndcg(z, y):\n",
    "    return metrics.ndcg_score(np.expand_dims(y, axis=0), z.flatten().reshape((1, -1)), k=5)"
   ]
  },
  {
   "cell_type": "code",
   "execution_count": 20,
   "metadata": {},
   "outputs": [],
   "source": [
    "preds = model.predict(test_model_input)"
   ]
  },
  {
   "cell_type": "code",
   "execution_count": 21,
   "metadata": {},
   "outputs": [
    {
     "name": "stdout",
     "output_type": "stream",
     "text": [
      "Testing AUC:  0.9952703171482978\n",
      "Testing LogLoss:  0.051097149864583295\n",
      "Testing NDCG@5:  0.9999999999999999\n"
     ]
    }
   ],
   "source": [
    "print('Testing AUC: ', evaluate_auc(preds, test_y))\n",
    "print('Testing LogLoss: ', evaluate_logloss(preds.astype('float64'), test_y))\n",
    "print(\"Testing NDCG@5: \", evaluate_ndcg(preds, test_y))"
   ]
  }
 ],
 "metadata": {
  "kernelspec": {
   "display_name": "Python 3",
   "language": "python",
   "name": "python3"
  },
  "language_info": {
   "codemirror_mode": {
    "name": "ipython",
    "version": 3
   },
   "file_extension": ".py",
   "mimetype": "text/x-python",
   "name": "python",
   "nbconvert_exporter": "python",
   "pygments_lexer": "ipython3",
   "version": "3.7.7"
  }
 },
 "nbformat": 4,
 "nbformat_minor": 2
}
