{
 "cells": [
  {
   "cell_type": "code",
   "execution_count": 1,
   "metadata": {},
   "outputs": [],
   "source": [
    "from __future__ import division, print_function, absolute_import, unicode_literals"
   ]
  },
  {
   "cell_type": "code",
   "execution_count": 2,
   "metadata": {},
   "outputs": [],
   "source": [
    "# packages initialization\n",
    "\n",
    "import torch\n",
    "from scipy import sparse\n",
    "import numpy as np\n",
    "# time\n",
    "# math\n",
    "# heapq"
   ]
  },
  {
   "cell_type": "markdown",
   "metadata": {},
   "source": [
    "## Configuration"
   ]
  },
  {
   "cell_type": "code",
   "execution_count": 3,
   "metadata": {},
   "outputs": [],
   "source": [
    "class Config(object):\n",
    "    def __init__(self):\n",
    "        self.data_dir = './data/CAMRa2011/'\n",
    "        self.user_dataset = self.data_dir + 'userRating'\n",
    "        self.group_dataset = self.data_dir + 'groupRating'\n",
    "        self.group_user_mapping = self.data_dir + \"groupMember.txt\"\n",
    "        self.embedding_size = 32\n",
    "        self.epoch = 30\n",
    "        self.num_negatives = 6\n",
    "        self.batch_size = 256\n",
    "        self.lr = [0.000005, 0.000001, 0.0000005]\n",
    "        self.drop_ratio = 0.2\n",
    "        self.topK = 5"
   ]
  },
  {
   "cell_type": "code",
   "execution_count": 4,
   "metadata": {},
   "outputs": [],
   "source": [
    "config = Config()"
   ]
  },
  {
   "cell_type": "markdown",
   "metadata": {},
   "source": [
    "## Dataset Loading"
   ]
  },
  {
   "cell_type": "code",
   "execution_count": 9,
   "metadata": {},
   "outputs": [],
   "source": [
    "def get_group_user_mapping(path):\n",
    "    \n",
    "    mapping = {}\n",
    "    \n",
    "    # read mapping file\n",
    "    with open(path, 'r') as file:\n",
    "        \n",
    "        line = file.readline().strip()\n",
    "        while line != None and line != \"\":\n",
    "            \n",
    "            # sample line format: [gid] [uid 1],[uid 2],[uid 3],[uid 4]\n",
    "            sequences = line.split(' ')\n",
    "            gid = int(sequences[0])\n",
    "            mapping[gid] = []\n",
    "            for uid in sequences[1].split(','):\n",
    "                mapping[gid].append(int(uid))\n",
    "            line = file.readline().strip()\n",
    "\n",
    "    return mapping\n",
    "\n",
    "# parse all interactions in dataset to 2D sparse matrix\n",
    "def get_interaction_matrix(rating_file_path):\n",
    "    \n",
    "    # get number of users and items\n",
    "    num_users, num_items = 0, 0\n",
    "    with open(rating_file_path, \"r\") as file:\n",
    "        \n",
    "        line = file.readline()\n",
    "        while line != None and line != \"\":\n",
    "            arr = line.split(\" \")\n",
    "            uid, iid = int(arr[0]), int(arr[1])\n",
    "            num_users = max(num_users, uid)\n",
    "            num_items = max(num_items, iid)\n",
    "            line = file.readline()\n",
    "            \n",
    "    # construct interaction matrix\n",
    "    # dok_matrix: Dictionary Of Keys based sparse matrix, an efficient structure for constructing sparse matrices incrementally.\n",
    "    matrix = sparse.dok_matrix((num_users + 1, num_items + 1), dtype=np.float32) # iid and uid starts from 1\n",
    "    with open(rating_file_path, \"r\") as file:\n",
    "        line = file.readline()\n",
    "        while line != None and line != \"\":\n",
    "            arr = line.split(\" \")\n",
    "            if len(arr) > 2:\n",
    "                uid, iid, rating = int(arr[0]), int(arr[1]), int(arr[2])\n",
    "                if (rating > 0):\n",
    "                    matrix[uid, iid] = 1.0\n",
    "            else:\n",
    "                uid, iid = int(arr[0]), int(arr[1])\n",
    "                matrix[uid, iid] = 1.0\n",
    "            line = file.readline()\n",
    "    \n",
    "    return matrix\n",
    "\n",
    "# parse all interactions in dataset to list\n",
    "def get_interaction_list(rating_file_path):\n",
    "    \n",
    "    interaction_list = []\n",
    "    with open(rating_file_path, \"r\") as file:\n",
    "        line = file.readline()\n",
    "        while line != None and line != \"\":\n",
    "            arr = line.split(\" \")\n",
    "            uid, iid = int(arr[0]), int(arr[1])\n",
    "            interaction_list.append([uid, iid])\n",
    "            line = file.readline()\n",
    "            \n",
    "    return interaction_list\n",
    "\n",
    "# parse negative sample lists for pairs in test set\n",
    "# negative samples: the items which never been interacted\n",
    "# the order of returned sample lists must be paired with test list\n",
    "def get_negative_samples(file_path):\n",
    "    \n",
    "    negative_samples_list = []\n",
    "    \n",
    "    with open(file_path, \"r\") as file:\n",
    "        \n",
    "        line = file.readline()\n",
    "        while line != None and line != \"\":\n",
    "            arr = line.split(\" \")\n",
    "            \n",
    "            negative_iids = []\n",
    "            for iid in arr[1:]:\n",
    "                negative_iids.append(int(iid))\n",
    "                \n",
    "            negative_samples_list.append(negative_iids)\n",
    "            line = file.readline()\n",
    "            \n",
    "    return negative_samples_list"
   ]
  },
  {
   "cell_type": "code",
   "execution_count": 10,
   "metadata": {},
   "outputs": [],
   "source": [
    "# get the mapping of users and groups\n",
    "# format: {gid: [uid, uid, ..], gid: [uid, uid, ..], ...}\n",
    "group_members = get_group_user_mapping(config.group_user_mapping)\n",
    "\n",
    "# get interaction matrix from uid-iid training set\n",
    "# train_user_matrix[uid, iid] = [1 | 0]\n",
    "train_user_matrix = get_interaction_matrix(config.user_dataset + \"Train.txt\")\n",
    "\n",
    "# format: [[uid, iid], [uid, iid], ...]\n",
    "# only pairs of users & items have interactions would appear in the list\n",
    "test_user_list = get_interaction_list(config.user_dataset + \"Test.txt\")\n",
    "\n",
    "# format: [[uid, ...], [uid, ...], ...]\n",
    "# test_user_negative_list & test_user_list follow the same order\n",
    "# e.g. test_user_negative_list[0] is for test_user_list[0]\n",
    "test_user_negative_list = get_negative_samples(config.user_dataset + \"Negative.txt\")\n",
    "\n",
    "# get interaction matrix from gid-iid training set\n",
    "train_group_matrix = get_interaction_matrix(config.group_dataset + \"Train.txt\")\n",
    "\n",
    "# pairs of group & item to be tested\n",
    "test_group_list = get_interaction_list(config.group_dataset + \"Test.txt\")\n",
    "\n",
    "test_group_negative_list = get_negative_samples(config.group_dataset + \"Negative.txt\")"
   ]
  }
 ],
 "metadata": {
  "kernelspec": {
   "display_name": "Python 3",
   "language": "python",
   "name": "python3"
  },
  "language_info": {
   "codemirror_mode": {
    "name": "ipython",
    "version": 3
   },
   "file_extension": ".py",
   "mimetype": "text/x-python",
   "name": "python",
   "nbconvert_exporter": "python",
   "pygments_lexer": "ipython3",
   "version": "3.7.7"
  }
 },
 "nbformat": 4,
 "nbformat_minor": 4
}
